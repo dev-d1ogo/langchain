{
 "cells": [
  {
   "cell_type": "code",
   "execution_count": 1,
   "metadata": {},
   "outputs": [],
   "source": [
    "texto = \"\"\"\n",
    "A Microsoft foi fundada em 4 de abril de 1975 por Bill Gates e Paul Allen, em Albuquerque, no estado do Novo México. O nome \"Microsoft\" é uma combinação das palavras \"microcomputador\" e \"software\", refletindo o foco da empresa em software para computadores pessoais.\n",
    "O primeiro grande projeto da Microsoft foi a criação de um sistema operacional para o computador Altair 8800, um dos primeiros microcomputadores disponíveis comercialmente.\n",
    "O sistema, denominado Altair BASIC, foi desenvolvido em parceria com a MITS (Micro Instrumentation and Telemetry Systems) e foi um marco inicial para a Microsoft.\n",
    "Em 1980, a empresa firmou um contrato significativo com a IBM para fornecer o sistema operacional para o novo PC da IBM, o que levou à criação do MS-DOS. Esse contrato foi um ponto de virada para a Microsoft, impulsionando sua expansão e dominando o mercado de sistemas operacionais para PCs nos anos seguintes.\n",
    "Com o sucesso do MS-DOS, a Microsoft se consolidou como líder no setor de software e, em 1985, lançou o Windows, um sistema operacional gráfico que viria a se tornar a base de sua supremacia no mercado de sistemas operacionais para desktop.\n",
    "\"\"\""
   ]
  },
  {
   "cell_type": "markdown",
   "metadata": {},
   "source": [
    "### Dado um texto que extrair dados"
   ]
  },
  {
   "cell_type": "code",
   "execution_count": 2,
   "metadata": {},
   "outputs": [],
   "source": [
    "from langchain.pydantic_v1 import BaseModel, Field\n",
    "from typing import List\n",
    "\n",
    "from langchain_core.utils.function_calling import convert_pydantic_to_openai_function\n"
   ]
  },
  {
   "cell_type": "code",
   "execution_count": 3,
   "metadata": {},
   "outputs": [
    {
     "data": {
      "text/plain": [
       "{'name': 'EventList',\n",
       " 'description': '',\n",
       " 'parameters': {'type': 'object',\n",
       "  'properties': {'events': {'description': 'Lista de eventos encontrados no texto',\n",
       "    'type': 'array',\n",
       "    'items': {'type': 'object',\n",
       "     'properties': {'name': {'description': 'Descrição do evento',\n",
       "       'type': 'string'},\n",
       "      'date': {'description': 'Data do evento no formato dd/mm/yyyy',\n",
       "       'type': 'string'}},\n",
       "     'required': ['name', 'date']}}},\n",
       "  'required': ['events']}}"
      ]
     },
     "execution_count": 3,
     "metadata": {},
     "output_type": "execute_result"
    }
   ],
   "source": [
    "class Event(BaseModel):\n",
    "    name: str = Field(description=\"Descrição do evento\")\n",
    "    date: str = Field(description=\"Data do evento no formato dd/mm/yyyy\")\n",
    "\n",
    "class EventList(BaseModel):\n",
    "    events: List[Event] = Field(description=\"Lista de eventos encontrados no texto\")\n",
    "    \n",
    "tool_get_events = convert_pydantic_to_openai_function(EventList)\n",
    "\n",
    "tool_get_events"
   ]
  },
  {
   "cell_type": "code",
   "execution_count": 8,
   "metadata": {},
   "outputs": [
    {
     "data": {
      "text/plain": [
       "[{'args': {'events': [{'name': 'Fundação da Microsoft', 'date': '04/04/1975'},\n",
       "    {'name': 'Desenvolvimento do Altair BASIC', 'date': '01/01/1975'},\n",
       "    {'name': 'Contrato com a IBM para fornecer o sistema operacional para o PC da IBM',\n",
       "     'date': '01/01/1980'},\n",
       "    {'name': 'Lançamento do Windows', 'date': '01/01/1985'}]},\n",
       "  'type': 'EventList'}]"
      ]
     },
     "execution_count": 8,
     "metadata": {},
     "output_type": "execute_result"
    }
   ],
   "source": [
    "from langchain_openai import ChatOpenAI\n",
    "from langchain_core.prompts import ChatPromptTemplate\n",
    "from langchain.output_parsers.openai_tools import JsonOutputToolsParser\n",
    "\n",
    "\n",
    "prompt = ChatPromptTemplate.from_messages(\n",
    "    [\n",
    "        (\n",
    "            \"system\",\n",
    "            \"Você é um assistente que extrai eventos históricos de textos.\"\n",
    "            \"Para cada evento encontrado no texto, identifique:\"\n",
    "            \"\\n- Uma descrição breve e clara do evento.\"\n",
    "            \"\\n- A data no formato dd/mm/yyyy.\"\n",
    "            \"\\n\\nSe a data não estiver no formato correto, ajuste conforme necessário.\"\n",
    "            \"\\n\\nRetorne a lista completa dos eventos encontrados.\",\n",
    "        ),\n",
    "        (\n",
    "            \"user\",\n",
    "            \"Texto:\\n{texto}\\n\\n\" \"Liste todos os eventos com suas respectivas datas.\",\n",
    "        ),\n",
    "    ]\n",
    ")\n",
    "\n",
    "chat = ChatOpenAI(model=\"gpt-4o-mini\", temperature=0)\n",
    "\n",
    "chain = prompt | chat.bind_tools([tool_get_events]) | JsonOutputToolsParser()\n",
    "\n",
    "chain.invoke({\"texto\": texto})"
   ]
  },
  {
   "cell_type": "markdown",
   "metadata": {},
   "source": [
    "### Extrair dados da web"
   ]
  },
  {
   "cell_type": "code",
   "execution_count": 11,
   "metadata": {},
   "outputs": [
    {
     "data": {
      "text/plain": [
       "[Document(page_content=\" TechTudo: tecnologia, celular, computador e games                top e últimas       Voltar     top e últimas    últimas do techtudo     notícias     comparativos     dicas e tutoriais     guias     listas     reviews     vídeos     tudo sobre     webstories       celulares e tablets       Voltar     celulares e tablets    notícias de celulares     celulares     tablets     telefonia     smartwatches     e-reader     android     iOS     fórum     --     iPhone 14     iphone 13     galaxy s22 ultra     moto g stylus     redmi note 10       jogos       Voltar     jogos    notícias de jogos     jogos casuais     jogos de esportes     jogos de terror     mais jogos       Voltar     mais jogos    jogos de ação     jogos arcade     jogos de aventura     jogos de corrida     jogos de estratégia     jogos de luta     jogos de raciocínio     jogos de rpg     jogos de tabuleiro     jogos educativos       playstation     xbox     nintendo     fórum     --     gta 5     roblox     minecraft       esports       Voltar     esports    notícias de esports     campeonatos     times     atletas     --     cblol     liga brasileira de free fire     twitch tv       informática       Voltar     informática    notícias de informática     computadores       Voltar     computadores    pc     pc gamer       notebooks       Voltar     notebooks    notebooks     notebooks 2 em 1     notebook gamer       impressoras       Voltar     impressoras    impressoras     impressoras 3d       mouses     placas e componentes     roteadores     --     windows 11     macos     linux       eletrodomésticos       Voltar     eletrodomésticos    air fryer     fogões     geladeiras     máquinas de lavar       eletrônicos       Voltar     eletrônicos    notícias de eletrônicos     ar-condicionado     caixas de som     câmeras       Voltar     câmeras    câmeras     filmadoras       carros smart     fones de ouvido     máquinas de cartão     tv box     TVs     veículos     --     gopro hero      chromecast     amazon echo dot       softwares       Voltar     softwares    notícias de softwares     aplicativos para celular     áudio e vídeo     imagens     inteligência artificial     internet     produtividade     redes sociais     segurança     utilitários     --     whatsapp     instagram     facebook     youtube       Streaming       Voltar     Streaming    notícias de streaming     Animes     Séries       Voltar     Séries    dorama     séries       Filmes     Jogos de futebol     Programas de TV     Plataformas       --     tech 60+     bbb     qual comprar     iphone 16     --     quem somos     fórum techtudo     canal do tt no whatsapp     CBN tecnologia     conteúdo de marca       Voltar     conteúdo de marca    americanas              princípios editoriais        termos de uso        política de privacidade                         Menu                      TechTudo                                                               últimas     aplicativos     celulares     eletrônicos     informática     eletrodomésticos     jogos     softwares     streaming     qual comprar         Publicidade        \\n\\n\\n\\n\\n                      FIQUE POR DENTRO\\n                    \\n                    CANAL DO TECHTUDO NO WHATSAPP: NOTÍCIAS, TUTORIAIS, REVIEWS E MAIS\\n                  \\n\\n\\n\\n                      ACESSE\\n                      \\n\\n\\n\\n\\n\\n\\n\\n\\n\\n      VEJA Quanto custa o iPhone 16e? Veja histórico de preços e se vale a pena Celular mais acessível da linha iPhone 16 se destaca pelo processador A18 e suporte a Apple Intelligence, mas peca pela perda da lente secundária; veja se vale a pena        AJUDA MUITO IA para escritores: 5 ferramentas que vão melhorar seu texto        CONHEÇA Melhor notebook touch screen: 6 opções para ficar de olho em 2025       CONTINUA DEPOIS DA PUBLICIDADE            Vídeos              CONFIRA!  Conhecemos o Galaxy S25 Edge! Celular ultrafino da Samsung; veja           PASSO A PASSO  Instagram lança transcrição de áudio para DM do app; saiba usa           CELULAR MUDO?  Como limpar os alt-falantes do celular? Veja passo a passo correto          SOFTWARES E APPS          VIROU HIT    Marisa Maiô: programa de TV criado 100% com IA viraliza nas redes                 TUTORIAL    Instagram: como ativar e desativar a transcrição de áudios na DM               VÃO AJUDAR!    IA para escritores: 5 ferramentas que vão melhorar seu texto                     ELETRODOMÉSTICOS          ESCOLA A SUA    Melhor cafeteira de cápsula: 8 modelos para comprar em 2025     Com valores entre R$ 399 e R$ 1.365, lista inclui modelos dos mais renomados aos menos conhecidos; confira                 QUAL COMPRAR?    Quer uma cozinha moderna? Aposte em uma dessas 6 geladeiras cinzas               VEJA OPÇÕES    5 máquinas de lavar Electrolux, Brastemp, Consul e mais em promoção               NOSTALGIA...    Eles reinaram um dia: 8 aparelhos que hoje parecem relíquias                    CELULARES          SAIBA MAIS    iPhone 16e vale a pena? Veja prós e contras do celular da Apple     Modelo acessível da Apple traz processador moderno e boa autonomia, mas peca por sistema de câmeras simplificado e ausência de recursos populares da marca; saiba mais                 CÂMERAS PODEROSAS!    Celular com câmera melhor que iPhone? Veja 5 modelos que superam os da Apple               CONHEÇA    Honor Magic V3: testamos o dobrável ultrafino da fabricante chinesa               COMPARE    Poco X7 Pro vs Redmi Note 14 Pro 5G: saiba o que muda entre os celulares da Xiaomi                    STREAMING          NOVIDADE NA NETFLIX    DNA do Crime: veja elenco e personagens na 2ª temporada da série Netflix     Após o sucesso da primeira temporada, produção retorna ao streaming vermelho com novos episódios, expandindo ainda mais o universo da série policial brasileira; saiba mais                 DE ARREPIAR    10 séries de terror e suspense do Globoplay para assistir agora               BOAS OPÇÕES    12 filmes de ação de 2025 imperdíveis que merecem a sua atenção               CURTE?    12 filmes de vingança que são de 'lavar a alma'                    INFORMÁTICA & ELETRÔNICOS          IMPORTANTE    O que é a fonte de alimentação e como escolher uma para o seu PC?     Fonte é responsável por distribuir energia para o PC com segurança. Veja como escolher o modelo ideal, evitar riscos e entender o que significam os selos de eficiência.                 TESTAMOS    Review Onyx Studio 9: ótimo som e design minimalista, mas peca na bateria               ENTENDA    Sua smart TV tem um menu secreto — e ele pode destruir a televisão               CUIDADO    Por que alguns eletrônicos dão choque mesmo desligados?                    QUAL COMPRAR          XÔ, FUMAÇA!    Depurador de ar Electrolux e Suggar: 5 itens para cuidar da cozinha                 DO SIMPLES AO PREMIUM    Monitor 60 Hz: 7 modelos que cabem em todos os orçamentos               A PARTIR DE R$ 99    Fones de ouvido JBL: 6 opções com fio, Bluetooth e mais               COFFEE BREAK    Cafeteira branca: 6 opções de cápsulas, expresso e mais para sua cozinha                    JOGOS & ESPORTS          JOGAÇOS RECENTES    10 melhores jogos do Xbox Game Pass em 2025 até agora segundo o Metacritic     Novo trailer de Silent Hill f apresenta novos detalhes de gameplay do jogo e confirma data de lançamento para setembro desse ano                 AVENTURA GARANTIDA    Seed de Minecraft para vila com 4 Ferreiros: veja opções e como usar               NOVO CONSOLE NA ÁREA    Nintendo Switch 2 chega oficialmente ao Brasil; veja preço e onde comprar               TODAS AS NOVIDADES    Silent Hill f, 007 e mais: 10 jogos do State of Play para ficar de olho                       Mais Lidas          Nintendo Switch 2 chega oficialmente ao Brasil; veja preço e onde comprar       Itaú fora do ar? Usuários apontam instabilidade no app do banco hoje (06)        6 funções inúteis que entopem a memória do seu celular sem você perceber       iPhone 16e vs iPhone 14: saiba o que muda entre os celulares da Apple       YouTube fora do ar? Usuários reclamam de instabilidade no site hoje (6)           CONTINUA DEPOIS DA PUBLICIDADE        Top Downloads         1        Counter-Strike    8,8                               Saiba mais        2        aTube Catcher    9,8                               Saiba mais        3        BlueStacks App Player    7,5                               Saiba mais        4        Chrome     10                               Saiba mais        5        Firefox    8,8                               Saiba mais        CONTINUA DEPOIS DA PUBLICIDADE       Techtudo   Você tem alguma dúvida sobre tecnologia? Visite o Fórum TechTudo e peça ajuda para a comunidade.   FAÇA UM PERGUNTA                SIGA                                                                    aplicativos    instagram     whatsapp     youtube      celulares    iphone 14     android     ios      jogos    coin master     gta 5     minecraft      esports    csgo     league of legends     valorant      eletrônicos    amazon echo dot     chromecast     gopro hero      eletrodomésticos    air fryer     fogões     geladeiras     máquinas de lavar      informática    dell     intel core i5     macbook air      softwares    adobe photoshop     adobe reader     windows      streaming    netflix     star+     amazon prime video      tudo sobre de a-z   mapa do site    comparativos     dicas e tutoriais     guias     listas     noticias     reviews     webstories                        Valor   Pipeline   Valor Investe       O Globo   Extra   Autoesporte   BHFM   Casa e Jardim   Casa Vogue   CBN       Crescer   Época Negócios   Galileu   Glamour   Globo Rural   GQ   Marie Claire       Monet   PEGN   Quem   Rádio Globo   TechTudo   Um Só Planeta   Vida de Bicho   Vogue        Quem Somos Termos e Condições Trabalhe Conosco Política de Privacidade Princípios Editoriais Anuncie Minha Editora       © 1996 - 2025. Todos direitos reservados a Editora Globo S/A. Este material não pode ser publicado, transmitido por broadcast, reescrito ou redistribuído sem autorização.          \", metadata={'source': 'https://www.techtudo.com.br/', 'title': 'TechTudo: tecnologia, celular, computador e games', 'description': 'O TechTudo reúne as principais notícias de tecnologia, reviews de celulares, TVs e computadores, além de dicas sobre aparelhos, aplicativos e softwares.', 'language': 'pt-BR'})]"
      ]
     },
     "execution_count": 11,
     "metadata": {},
     "output_type": "execute_result"
    }
   ],
   "source": [
    "from langchain_community.document_loaders.web_base import WebBaseLoader\n",
    "\n",
    "loader = WebBaseLoader(\"https://www.techtudo.com.br/\")\n",
    "\n",
    "docs = loader.load()\n",
    "\n",
    "docs\n"
   ]
  }
 ],
 "metadata": {
  "kernelspec": {
   "display_name": ".venv",
   "language": "python",
   "name": "python3"
  },
  "language_info": {
   "codemirror_mode": {
    "name": "ipython",
    "version": 3
   },
   "file_extension": ".py",
   "mimetype": "text/x-python",
   "name": "python",
   "nbconvert_exporter": "python",
   "pygments_lexer": "ipython3",
   "version": "3.13.3"
  }
 },
 "nbformat": 4,
 "nbformat_minor": 2
}
