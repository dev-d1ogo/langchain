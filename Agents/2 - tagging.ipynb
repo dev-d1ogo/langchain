{
 "cells": [
  {
   "cell_type": "code",
   "execution_count": 4,
   "metadata": {},
   "outputs": [],
   "source": [
    "from langchain.pydantic_v1 import BaseModel, Field\n",
    "from langchain_core.utils.function_calling import convert_to_openai_function"
   ]
  },
  {
   "cell_type": "code",
   "execution_count": 5,
   "metadata": {},
   "outputs": [],
   "source": [
    "## Define o sentimento e o idioma da mensagem enviada\n",
    "\n",
    "class Sentimento(BaseModel):\n",
    "    sentimento: str = Field(description=\"Sentimento atribuído ao texto. Deve ser 'pos' para positivo, 'neg' para negativo e 'nt' que significa neutro quando não identificado\")\n",
    "    lingua: str = Field(description=\"Em qual idioma a mensagem foi enviada (deve estar no charset UTF-8)\")\n",
    "    \n",
    "tool_get_sentimento = convert_to_openai_function(Sentimento)"
   ]
  },
  {
   "cell_type": "code",
   "execution_count": 12,
   "metadata": {},
   "outputs": [],
   "source": [
    "text = \"I hate my college, it's the worst envioroment that i know \""
   ]
  },
  {
   "cell_type": "code",
   "execution_count": 17,
   "metadata": {},
   "outputs": [
    {
     "name": "stdout",
     "output_type": "stream",
     "text": [
      "content='' additional_kwargs={'function_call': {'arguments': '{\"sentimento\":\"neg\",\"lingua\":\"en\"}', 'name': 'Sentimento'}} response_metadata={'token_usage': {'completion_tokens': 11, 'prompt_tokens': 179, 'total_tokens': 190, 'completion_tokens_details': {'accepted_prediction_tokens': 0, 'audio_tokens': 0, 'reasoning_tokens': 0, 'rejected_prediction_tokens': 0}, 'prompt_tokens_details': {'audio_tokens': 0, 'cached_tokens': 0}}, 'model_name': 'gpt-4o-mini', 'system_fingerprint': 'fp_62a23a81ef', 'finish_reason': 'stop', 'logprobs': None} id='run-4d0aadf6-e5be-4c2e-93dc-a357686f358f-0'\n"
     ]
    }
   ],
   "source": [
    "from langchain.prompts import ChatPromptTemplate\n",
    "from langchain_openai import ChatOpenAI\n",
    "\n",
    "chat = ChatOpenAI(model=\"gpt-4o-mini\")\n",
    "\n",
    "prompt = ChatPromptTemplate.from_messages(\n",
    "    [\n",
    "        (\n",
    "            \"system\",\n",
    "            \"Você é um assistente especializado em análise de sentimentos e detecção de idioma.\",\n",
    "        ),\n",
    "        (\n",
    "            \"user\",\n",
    "            \"Receba o texto abaixo e identifique:\\n\"\n",
    "            \"1. O sentimento ('pos' para positivo, 'neg' para negativo e 'nt' para neutro).\\n\"\n",
    "            \"2. O idioma em que o texto está escrito.\\n\\n\"\n",
    "            \"Texto: {input}\",\n",
    "        ),\n",
    "    ]\n",
    ")\n",
    "\n",
    "chain = prompt | chat.bind(functions = [tool_get_sentimento], function_call = {\"name\": \"Sentimento\"})\n",
    "\n",
    "response = chain.invoke({\"input\": text})\n",
    "\n",
    "print(response)"
   ]
  },
  {
   "cell_type": "markdown",
   "metadata": {},
   "source": [
    "### Outro metodo de pegar tagging - Classificando setores dentro de uma empresa"
   ]
  },
  {
   "cell_type": "code",
   "execution_count": 47,
   "metadata": {},
   "outputs": [],
   "source": [
    "# Lista de solicitações\n",
    "solicitacoes = [\n",
    "    # SUPORTE_TECNICO\n",
    "    \"Meu computador está travando constantemente ao abrir programas pesados como editores de vídeo. Preciso de ajuda para resolver isso.\",\n",
    "    \"Durante a instalação do software de design gráfico, recebo uma mensagem de erro indicando falta de permissões. Como posso corrigir isso?\",\n",
    "    \"O aplicativo de armazenamento em nuvem não está sincronizando meus arquivos corretamente. Já tentei reinstalar, mas o problema persiste.\",\n",
    "    \"A impressora da empresa não está sendo reconhecida pela rede local. Já reiniciei o roteador e a impressora, mas continua fora da rede.\",\n",
    "    \"Meu antivírus expirou e agora o computador está apresentando lentidão extrema. Preciso de ajuda para atualizar ou reinstalar a proteção.\",\n",
    "    # VENDAS\n",
    "    \"Gostaria de receber uma proposta comercial personalizada para renovar o contrato anual da nossa empresa.\",\n",
    "    \"Poderiam me enviar o catálogo atualizado de produtos e os preços para revenda?\",\n",
    "    \"Quero saber quais são as condições de pagamento e se há descontos para compras em grande volume.\",\n",
    "    \"Estou interessado em adquirir licenças adicionais do seu software. Como funciona o processo de compra?\",\n",
    "    \"Vocês oferecem algum plano corporativo que atenda empresas de médio porte?\",\n",
    "    # MARKETING\n",
    "    \"Gostaria de discutir uma possível parceria para divulgação de nossa marca nas suas plataformas.\",\n",
    "    \"Estamos organizando um evento e queremos saber como contratar o patrocínio de vocês.\",\n",
    "    \"Quais são as opções de publicidade disponíveis para empresas dentro do seu aplicativo?\",\n",
    "    \"Gostaríamos de obter dados demográficos da sua base de clientes para avaliar uma ação de co-marketing.\",\n",
    "    \"Estou interessado em publicar um artigo patrocinado no blog da empresa. Quais são as condições?\",\n",
    "]"
   ]
  },
  {
   "cell_type": "code",
   "execution_count": 45,
   "metadata": {},
   "outputs": [],
   "source": [
    "from enum import Enum\n",
    "\n",
    "class Setor(Enum):\n",
    "    SUPORTE_TECNICO = \"Suporte Técnico\"\n",
    "    VENDAS = \"Vendas\"\n",
    "    MARKETING = \"Marketing\"\n",
    "\n",
    "\n",
    "class SetorEnum(str, Enum):\n",
    "    SUPORTE_TECNICO = \"Suporte Técnico\"\n",
    "    VENDAS = \"Vendas\"\n",
    "    MARKETING = \"Marketing\"\n",
    "\n",
    "class Tag(BaseModel):\n",
    "    setor: SetorEnum = Field(description=\"O setor ao qual a solicitação pertence\")\n",
    "    prioridade: str = Field(description=\"A prioridade da solicitação, deve ser 'alta', 'média' ou 'baixa'\")\n",
    "\n",
    "\n",
    "\n"
   ]
  },
  {
   "cell_type": "code",
   "execution_count": 48,
   "metadata": {},
   "outputs": [
    {
     "name": "stdout",
     "output_type": "stream",
     "text": [
      "Quero saber quais são as condições de pagamento e se há descontos para compras em grande volume.\n",
      "[{'args': {'setor': 'Vendas', 'prioridade': 'média'}, 'type': 'Tag'}]\n"
     ]
    }
   ],
   "source": [
    "from langchain_core.utils.function_calling import convert_pydantic_to_openai_tool\n",
    "\n",
    "from enum import Enum\n",
    "\n",
    "\n",
    "class Setor(Enum):\n",
    "    SUPORTE_TECNICO = \"Suporte Técnico\"\n",
    "    VENDAS = \"Vendas\"\n",
    "    MARKETING = \"Marketing\"\n",
    "\n",
    "\n",
    "class SetorEnum(str, Enum):\n",
    "    SUPORTE_TECNICO = \"Suporte Técnico\"\n",
    "    VENDAS = \"Vendas\"\n",
    "    MARKETING = \"Marketing\"\n",
    "\n",
    "\n",
    "class Tag(BaseModel):\n",
    "    setor: SetorEnum = Field(description=\"O setor ao qual a solicitação pertence\")\n",
    "    prioridade: str = Field(\n",
    "        description=\"A prioridade da solicitação, deve ser 'alta', 'média' ou 'baixa'\"\n",
    "    )\n",
    "\n",
    "tool_get_tag = convert_pydantic_to_openai_tool(Tag)\n",
    "\n",
    "\n",
    "from langchain.prompts import ChatPromptTemplate\n",
    "from langchain.output_parsers.openai_tools import JsonOutputToolsParser\n",
    "\n",
    "prompt = ChatPromptTemplate.from_messages(\n",
    "    [\n",
    "        (\n",
    "            \"system\",\n",
    "            \"Você é um assistente especializado em classificar solicitações de suporte técnico.\"\n",
    "            \"\\n\\nAs categorias possíveis são:\"\n",
    "            \"\\n- SUPORTE_TECNICO: Solicitações relacionadas a problemas técnicos, como dificuldades com hardware, software, configuração de sistemas ou dúvidas técnicas em geral.\"\n",
    "            \"\\n  Exemplo: 'Meu computador não liga', 'Não consigo acessar meu e-mail'.\"\n",
    "            \"\\n\\n- VENDAS: Solicitações relacionadas à compra de produtos ou serviços, informações sobre preços, planos, propostas comerciais, ou renovação de contratos.\"\n",
    "            \"\\n  Exemplo: 'Gostaria de saber os preços dos seus planos', 'Como faço para renovar minha assinatura?'.\"\n",
    "            \"\\n\\n- MARKETING: Solicitações relacionadas a divulgação, campanhas publicitárias, eventos, parcerias de marketing ou estratégias de branding.\"\n",
    "            \"\\n  Exemplo: 'Quero saber mais sobre parceria para eventos', 'Gostaria de informações sobre oportunidades de divulgação em sua plataforma'.\"\n",
    "            \"\\n\\nClassifique a solicitação recebida de acordo com o conteúdo e a intenção do solicitante. \"\n",
    "            \"Responda apenas com o nome da categoria adequada: SUPORTE_TECNICO, VENDAS ou MARKETING.\",\n",
    "        ),\n",
    "        (\n",
    "            \"user\",\n",
    "            \"Texto da solicitação:\\n\"\n",
    "            \"{solicitacao}\\n\\n\"\n",
    "            \"Responda apenas com o nome da categoria adequada.\",\n",
    "        ),\n",
    "    ]\n",
    ")\n",
    "\n",
    "chain = (\n",
    "    prompt\n",
    "    | chat.bind(\n",
    "        tools=[tool_get_tag],  # ✅ Aqui: tools e não functions\n",
    "        tool_choice={\n",
    "            \"type\": \"function\",\n",
    "            \"function\": {\"name\": \"Tag\"},\n",
    "        },  # ✅ Garante que vai usar a função Tag\n",
    "    )\n",
    "    | JsonOutputToolsParser()\n",
    ")\n",
    "\n",
    "\n",
    "solicitacao = solicitacoes[7]\n",
    "\n",
    "resposta = chain.invoke({\"solicitacao\": solicitacao})\n",
    "\n",
    "print(solicitacao)\n",
    "print(resposta)"
   ]
  }
 ],
 "metadata": {
  "kernelspec": {
   "display_name": ".venv",
   "language": "python",
   "name": "python3"
  },
  "language_info": {
   "codemirror_mode": {
    "name": "ipython",
    "version": 3
   },
   "file_extension": ".py",
   "mimetype": "text/x-python",
   "name": "python",
   "nbconvert_exporter": "python",
   "pygments_lexer": "ipython3",
   "version": "3.13.3"
  }
 },
 "nbformat": 4,
 "nbformat_minor": 2
}
