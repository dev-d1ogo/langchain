{
 "cells": [
  {
   "cell_type": "code",
   "execution_count": 12,
   "id": "7222db82",
   "metadata": {},
   "outputs": [],
   "source": [
    "from langchain_community.document_loaders import PyPDFLoader\n",
    "from dotenv import load_dotenv\n",
    "\n",
    "load_dotenv()\n",
    "\n",
    "## Maneira de ler documento\n",
    "file = \"files/apostila.pdf\"\n",
    "\n",
    "loader = PyPDFLoader(file)\n",
    "\n",
    "files = loader.load()"
   ]
  },
  {
   "cell_type": "code",
   "execution_count": 4,
   "id": "46d33790",
   "metadata": {},
   "outputs": [
    {
     "data": {
      "text/plain": [
       "28"
      ]
     },
     "execution_count": 4,
     "metadata": {},
     "output_type": "execute_result"
    }
   ],
   "source": [
    "len(files)"
   ]
  },
  {
   "cell_type": "code",
   "execution_count": 34,
   "id": "39cbbdb3",
   "metadata": {},
   "outputs": [
    {
     "name": "stdout",
     "output_type": "stream",
     "text": [
      "Pergunta 1: Qual é o tema principal?\n",
      "Resposta: O tema principal de \"Jai Bhim\" parece ser a busca por justiça e direitos humanos, conforme descrito na sinopse fornecida.\n",
      "\n",
      "Pergunta 2: Quais os principais autores citados?\n",
      "Resposta: Desculpe, não há informações sobre os principais autores citados nos filmes fornecidos. Se precisar de informações adicionais, por favor, me avise!\n",
      "\n"
     ]
    }
   ],
   "source": [
    "from langchain.chains.question_answering import load_qa_chain\n",
    "from langchain_openai.chat_models import ChatOpenAI\n",
    "\n",
    "chat = ChatOpenAI(model=\"gpt-3.5-turbo-0125\", temperature=0.6)\n",
    "\n",
    "## Tipo de chain que lida com documentos e o chain type stuff empilha todos esses documentos em uma pilha e manda tudo de vez para a IA\n",
    "\n",
    "chain = load_qa_chain(llm=chat, chain_type=\"stuff\")\n",
    "\n",
    "questions = [\n",
    "    {\"input_documents\": files[:8], \"question\": \"Qual é o tema principal?\"},\n",
    "    {\"input_documents\": files[:8], \"question\": \"Quais os principais autores citados?\"},\n",
    "]\n",
    "\n",
    "results = chain.apply(questions)\n",
    "\n",
    "for idx, result in enumerate(results, start=1):\n",
    "    print(f\"Pergunta {idx}: {questions[idx-1]['question']}\")\n",
    "    print(f\"Resposta: {result['output_text']}\\n\")"
   ]
  },
  {
   "cell_type": "code",
   "execution_count": 27,
   "id": "3ee26fa5",
   "metadata": {},
   "outputs": [],
   "source": [
    "from langchain_community.document_loaders.csv_loader import CSVLoader\n",
    "\n",
    "file = \"files/imdb_movies.csv\"\n",
    "\n",
    "loader = CSVLoader(file)\n",
    "\n",
    "files = loader.load()"
   ]
  },
  {
   "cell_type": "code",
   "execution_count": 28,
   "id": "1ec4e2da",
   "metadata": {},
   "outputs": [
    {
     "data": {
      "text/plain": [
       "1000"
      ]
     },
     "execution_count": 28,
     "metadata": {},
     "output_type": "execute_result"
    }
   ],
   "source": [
    "len(files)"
   ]
  },
  {
   "cell_type": "code",
   "execution_count": 32,
   "id": "db7fc572",
   "metadata": {},
   "outputs": [],
   "source": [
    "ask = \"Qual o filme com o maior meta score? E o com menor?\""
   ]
  },
  {
   "cell_type": "code",
   "execution_count": 36,
   "id": "b861e6e3",
   "metadata": {},
   "outputs": [
    {
     "data": {
      "text/plain": [
       "{'input_documents': [Document(page_content=': 0\\nMovie Name: The Shawshank Redemption\\nYear of Release: (1994)\\nWatch Time: 142 min\\nMovie Rating: 9.3\\nMeatscore of movie: 81\\nVotes: 34,709\\nGross: $28.34M\\nDescription: Two imprisoned men bond over a number of years, finding solace and eventual redemption through acts of common decency.', metadata={'source': 'files/imdb_movies.csv', 'row': 0}),\n",
       "  Document(page_content=': 1\\nMovie Name: The Godfather\\nYear of Release: (1972)\\nWatch Time: 175 min\\nMovie Rating: 9.2\\nMeatscore of movie: 100\\nVotes: 34,709\\nGross: $134.97M\\nDescription: The aging patriarch of an organized crime dynasty in postwar New York City transfers control of his clandestine empire to his reluctant youngest son.', metadata={'source': 'files/imdb_movies.csv', 'row': 1}),\n",
       "  Document(page_content=': 2\\nMovie Name: The Dark Knight\\nYear of Release: (2008)\\nWatch Time: 152 min\\nMovie Rating: 9.0\\nMeatscore of movie: 84\\nVotes: 34,709\\nGross: $534.86M\\nDescription: When the menace known as the Joker wreaks havoc and chaos on the people of Gotham, Batman must accept one of the greatest psychological and physical tests of his ability to fight injustice.', metadata={'source': 'files/imdb_movies.csv', 'row': 2}),\n",
       "  Document(page_content=\": 3\\nMovie Name: The Lord of the Rings: The Return of the King\\nYear of Release: (2003)\\nWatch Time: 201 min\\nMovie Rating: 9.0\\nMeatscore of movie: 94\\nVotes: 34,709\\nGross: $377.85M\\nDescription: Gandalf and Aragorn lead the World of Men against Sauron's army to draw his gaze from Frodo and Sam as they approach Mount Doom with the One Ring.\", metadata={'source': 'files/imdb_movies.csv', 'row': 3}),\n",
       "  Document(page_content=\": 4\\nMovie Name: Schindler's List\\nYear of Release: (1993)\\nWatch Time: 195 min\\nMovie Rating: 9.0\\nMeatscore of movie: 94\\nVotes: 34,709\\nGross: $96.90M\\nDescription: In German-occupied Poland during World War II, industrialist Oskar Schindler gradually becomes concerned for his Jewish workforce after witnessing their persecution by the Nazis.\", metadata={'source': 'files/imdb_movies.csv', 'row': 4}),\n",
       "  Document(page_content=': 5\\nMovie Name: The Godfather: Part II\\nYear of Release: (1974)\\nWatch Time: 202 min\\nMovie Rating: 9.0\\nMeatscore of movie: 90\\nVotes: 34,709\\nGross: $57.30M\\nDescription: The early life and career of Vito Corleone in 1920s New York City is portrayed, while his son, Michael, expands and tightens his grip on the family crime syndicate.', metadata={'source': 'files/imdb_movies.csv', 'row': 5}),\n",
       "  Document(page_content=': 6\\nMovie Name: 12 Angry Men\\nYear of Release: (1957)\\nWatch Time: 96 min\\nMovie Rating: 9.0\\nMeatscore of movie: 96\\nVotes: 34,709\\nGross: $4.36M\\nDescription: The jury in a New York City murder trial is frustrated by a single member whose skeptical caution forces them to more carefully consider the evidence before jumping to a hasty verdict.', metadata={'source': 'files/imdb_movies.csv', 'row': 6}),\n",
       "  Document(page_content=': 7\\nMovie Name: Jai Bhim\\nYear of Release: (2021)\\nWatch Time: 164 min\\nMovie Rating: 8.9\\nMeatscore of movie: ****\\nVotes: 34,709\\nGross: #248\\nDescription: When a tribal man is arrested for a case of alleged theft, his wife turns to a human-rights lawyer to help bring justice.', metadata={'source': 'files/imdb_movies.csv', 'row': 7}),\n",
       "  Document(page_content=': 8\\nMovie Name: Pulp Fiction\\nYear of Release: (1994)\\nWatch Time: 154 min\\nMovie Rating: 8.9\\nMeatscore of movie: 94\\nVotes: 34,709\\nGross: $107.93M\\nDescription: The lives of two mob hitmen, a boxer, a gangster and his wife, and a pair of diner bandits intertwine in four tales of violence and redemption.', metadata={'source': 'files/imdb_movies.csv', 'row': 8}),\n",
       "  Document(page_content=': 9\\nMovie Name: Inception\\nYear of Release: (2010)\\nWatch Time: 148 min\\nMovie Rating: 8.8\\nMeatscore of movie: 74\\nVotes: 34,709\\nGross: $292.58M\\nDescription: A thief who steals corporate secrets through the use of dream-sharing technology is given the inverse task of planting an idea into the mind of a C.E.O., but his tragic past may doom the project and his team to disaster.', metadata={'source': 'files/imdb_movies.csv', 'row': 9}),\n",
       "  Document(page_content=\": 10\\nMovie Name: The Lord of the Rings: The Two Towers\\nYear of Release: (2002)\\nWatch Time: 179 min\\nMovie Rating: 8.8\\nMeatscore of movie: 87\\nVotes: 34,709\\nGross: $342.55M\\nDescription: While Frodo and Sam edge closer to Mordor with the help of the shifty Gollum, the divided fellowship makes a stand against Sauron's new ally, Saruman, and his hordes of Isengard.\", metadata={'source': 'files/imdb_movies.csv', 'row': 10}),\n",
       "  Document(page_content=': 11\\nMovie Name: Fight Club\\nYear of Release: (1999)\\nWatch Time: 139 min\\nMovie Rating: 8.8\\nMeatscore of movie: 66\\nVotes: 34,709\\nGross: $37.03M\\nDescription: An insomniac office worker and a devil-may-care soap maker form an underground fight club that evolves into much more.', metadata={'source': 'files/imdb_movies.csv', 'row': 11}),\n",
       "  Document(page_content=': 12\\nMovie Name: The Lord of the Rings: The Fellowship of the Ring\\nYear of Release: (2001)\\nWatch Time: 178 min\\nMovie Rating: 8.8\\nMeatscore of movie: 92\\nVotes: 34,709\\nGross: $315.54M\\nDescription: A meek Hobbit from the Shire and eight companions set out on a journey to destroy the powerful One Ring and save Middle-earth from the Dark Lord Sauron.', metadata={'source': 'files/imdb_movies.csv', 'row': 12}),\n",
       "  Document(page_content=': 13\\nMovie Name: Forrest Gump\\nYear of Release: (1994)\\nWatch Time: 142 min\\nMovie Rating: 8.8\\nMeatscore of movie: 82\\nVotes: 34,709\\nGross: $330.25M\\nDescription: The presidencies of Kennedy and Johnson, the Vietnam War, the Watergate scandal and other historical events unfold from the perspective of an Alabama man with an IQ of 75, whose only desire is to be reunited with his childhood sweetheart.', metadata={'source': 'files/imdb_movies.csv', 'row': 13}),\n",
       "  Document(page_content=': 14\\nMovie Name: The Good, the Bad and the Ugly\\nYear of Release: (1966)\\nWatch Time: 178 min\\nMovie Rating: 8.8\\nMeatscore of movie: 90\\nVotes: 34,709\\nGross: $6.10M\\nDescription: A bounty hunting scam joins two men in an uneasy alliance against a third in a race to find a fortune in gold buried in a remote cemetery.', metadata={'source': 'files/imdb_movies.csv', 'row': 14}),\n",
       "  Document(page_content=': 15\\nMovie Name: Soorarai Pottru\\nYear of Release: (2020)\\nWatch Time: 153 min\\nMovie Rating: 8.7\\nMeatscore of movie: ****\\nVotes: 34,709\\nGross: %^%^%^\\nDescription: Nedumaaran Rajangam \"Maara\" sets out to make the common man fly and in the process takes on the world\\'s most capital intensive industry and several enemies who stand in his way.', metadata={'source': 'files/imdb_movies.csv', 'row': 15}),\n",
       "  Document(page_content=': 16\\nMovie Name: The Matrix\\nYear of Release: (1999)\\nWatch Time: 136 min\\nMovie Rating: 8.7\\nMeatscore of movie: 73\\nVotes: 34,709\\nGross: $171.48M\\nDescription: When a beautiful stranger leads computer hacker Neo to a forbidding underworld, he discovers the shocking truth--the life he knows is the elaborate deception of an evil cyber-intelligence.', metadata={'source': 'files/imdb_movies.csv', 'row': 16}),\n",
       "  Document(page_content=': 17\\nMovie Name: Goodfellas\\nYear of Release: (1990)\\nWatch Time: 145 min\\nMovie Rating: 8.7\\nMeatscore of movie: 90\\nVotes: 34,709\\nGross: $46.84M\\nDescription: The story of Henry Hill and his life in the mob, covering his relationship with his wife Karen Hill and his mob partners Jimmy Conway and Tommy DeVito in the Italian-American crime syndicate.', metadata={'source': 'files/imdb_movies.csv', 'row': 17}),\n",
       "  Document(page_content=': 18\\nMovie Name: Star Wars: Episode V - The Empire Strikes Back\\nYear of Release: (1980)\\nWatch Time: 124 min\\nMovie Rating: 8.7\\nMeatscore of movie: 82\\nVotes: 34,709\\nGross: $290.48M\\nDescription: After the Rebels are brutally overpowered by the Empire on the ice planet Hoth, Luke Skywalker begins Jedi training with Yoda, while his friends are pursued across the galaxy by Darth Vader and bounty hunter Boba Fett.', metadata={'source': 'files/imdb_movies.csv', 'row': 18}),\n",
       "  Document(page_content=\": 19\\nMovie Name: One Flew Over the Cuckoo's Nest\\nYear of Release: (1975)\\nWatch Time: 133 min\\nMovie Rating: 8.7\\nMeatscore of movie: 84\\nVotes: 34,709\\nGross: $112.00M\\nDescription: A criminal pleads insanity and is admitted to a mental institution, where he rebels against the oppressive nurse and rallies up the scared patients.\", metadata={'source': 'files/imdb_movies.csv', 'row': 19}),\n",
       "  Document(page_content=': 20\\nMovie Name: Vikram\\nYear of Release: (2022)\\nWatch Time: 175 min\\nMovie Rating: 8.6\\nMeatscore of movie: ****\\nVotes: 34,709\\nGross: %^%^%^\\nDescription: A high-octane action film where a special investigator is assigned a case of serial Killings, he finds the case is not what it seems to be and leading down this path is only going to end in a war between everyone involved.', metadata={'source': 'files/imdb_movies.csv', 'row': 20}),\n",
       "  Document(page_content=\": 21\\nMovie Name: Top Gun: Maverick\\nYear of Release: (2022)\\nWatch Time: 130 min\\nMovie Rating: 8.6\\nMeatscore of movie: 78\\nVotes: 34,709\\nGross: #45\\nDescription: After more than thirty years of service as one of the Navy's top aviators, Pete Mitchell is where he belongs, pushing the envelope as a courageous test pilot and dodging the advancement in rank that would ground him.\", metadata={'source': 'files/imdb_movies.csv', 'row': 21}),\n",
       "  Document(page_content=\": 22\\nMovie Name: Interstellar\\nYear of Release: (2014)\\nWatch Time: 169 min\\nMovie Rating: 8.6\\nMeatscore of movie: 74\\nVotes: 34,709\\nGross: $188.02M\\nDescription: A team of explorers travel through a wormhole in space in an attempt to ensure humanity's survival.\", metadata={'source': 'files/imdb_movies.csv', 'row': 22}),\n",
       "  Document(page_content=\": 23\\nMovie Name: City of God\\nYear of Release: (2002)\\nWatch Time: 130 min\\nMovie Rating: 8.6\\nMeatscore of movie: 79\\nVotes: 34,709\\nGross: $7.56M\\nDescription: In the slums of Rio, two kids' paths diverge as one struggles to become a photographer and the other a kingpin.\", metadata={'source': 'files/imdb_movies.csv', 'row': 23}),\n",
       "  Document(page_content=\": 24\\nMovie Name: Spirited Away\\nYear of Release: (2001)\\nWatch Time: 125 min\\nMovie Rating: 8.6\\nMeatscore of movie: 96\\nVotes: 34,709\\nGross: $10.06M\\nDescription: During her family's move to the suburbs, a sullen 10-year-old girl wanders into a world ruled by gods, witches, and spirits, and where humans are changed into beasts.\", metadata={'source': 'files/imdb_movies.csv', 'row': 24}),\n",
       "  Document(page_content=': 25\\nMovie Name: Saving Private Ryan\\nYear of Release: (1998)\\nWatch Time: 169 min\\nMovie Rating: 8.6\\nMeatscore of movie: 91\\nVotes: 34,709\\nGross: $216.54M\\nDescription: Following the Normandy Landings, a group of U.S. soldiers go behind enemy lines to retrieve a paratrooper whose brothers have been killed in action.', metadata={'source': 'files/imdb_movies.csv', 'row': 25}),\n",
       "  Document(page_content=': 26\\nMovie Name: The Green Mile\\nYear of Release: (1999)\\nWatch Time: 189 min\\nMovie Rating: 8.6\\nMeatscore of movie: 61\\nVotes: 34,709\\nGross: $136.80M\\nDescription: The lives of guards on Death Row are affected by one of their charges: a black man accused of child murder and rape, yet who has a mysterious gift.', metadata={'source': 'files/imdb_movies.csv', 'row': 26}),\n",
       "  Document(page_content=': 27\\nMovie Name: Life Is Beautiful\\nYear of Release: (1997)\\nWatch Time: 116 min\\nMovie Rating: 8.6\\nMeatscore of movie: 59\\nVotes: 34,709\\nGross: $57.60M\\nDescription: When an open-minded Jewish waiter and his son become victims of the Holocaust, he uses a perfect mixture of will, humor, and imagination to protect his son from the dangers around their camp.', metadata={'source': 'files/imdb_movies.csv', 'row': 27}),\n",
       "  Document(page_content=': 28\\nMovie Name: Se7en\\nYear of Release: (1995)\\nWatch Time: 127 min\\nMovie Rating: 8.6\\nMeatscore of movie: 65\\nVotes: 34,709\\nGross: $100.13M\\nDescription: Two detectives, a rookie and a veteran, hunt a serial killer who uses the seven deadly sins as his motives.', metadata={'source': 'files/imdb_movies.csv', 'row': 28}),\n",
       "  Document(page_content=': 29\\nMovie Name: Terminator 2: Judgment Day\\nYear of Release: (1991)\\nWatch Time: 137 min\\nMovie Rating: 8.6\\nMeatscore of movie: 75\\nVotes: 34,709\\nGross: $204.84M\\nDescription: A cyborg, identical to the one who failed to kill Sarah Connor, must now protect her ten-year-old son John from a more advanced and powerful cyborg.', metadata={'source': 'files/imdb_movies.csv', 'row': 29})],\n",
       " 'question': 'Qual o filme com o maior meta score? E o com menor?',\n",
       " 'output_text': 'O filme com o maior Meta Score é \"The Godfather\" com uma pontuação de 100. O filme com o menor Meta Score é \"Life Is Beautiful\" com uma pontuação de 59.'}"
      ]
     },
     "execution_count": 36,
     "metadata": {},
     "output_type": "execute_result"
    }
   ],
   "source": [
    "chain.invoke({\"input_documents\": files[:30], \"question\": ask})"
   ]
  }
 ],
 "metadata": {
  "kernelspec": {
   "display_name": ".venv",
   "language": "python",
   "name": "python3"
  },
  "language_info": {
   "codemirror_mode": {
    "name": "ipython",
    "version": 3
   },
   "file_extension": ".py",
   "mimetype": "text/x-python",
   "name": "python",
   "nbconvert_exporter": "python",
   "pygments_lexer": "ipython3",
   "version": "3.12.10"
  }
 },
 "nbformat": 4,
 "nbformat_minor": 5
}
