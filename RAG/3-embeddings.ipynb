{
 "cells": [
  {
   "cell_type": "markdown",
   "id": "60f69fcf",
   "metadata": {},
   "source": [
    "### Embeddings: Criam uma representação vetorial de um espaço de texto, facilitando uma busca semantica"
   ]
  },
  {
   "cell_type": "code",
   "execution_count": 12,
   "id": "164e4204",
   "metadata": {},
   "outputs": [],
   "source": [
    "from langchain_openai import OpenAIEmbeddings\n",
    "\n",
    "embedding_model = OpenAIEmbeddings(\n",
    ")\n",
    "\n",
    "# Agora sim:\n",
    "embedding = embedding_model.embed_documents(\n",
    "    [\"Eu gosto de cachorro\", \"Eu gosto de animais\", \"Hoje a tarde vai chover\"]\n",
    ")"
   ]
  },
  {
   "cell_type": "code",
   "execution_count": 15,
   "id": "2bad3b7a",
   "metadata": {},
   "outputs": [
    {
     "data": {
      "text/plain": [
       "[-0.011000716152340632,\n",
       " 0.015313880552721277,\n",
       " -0.01075530147750339,\n",
       " -0.0276827831447505,\n",
       " -0.018504271325605417,\n",
       " 0.007939167338687981,\n",
       " -0.002808464930226745,\n",
       " -0.013326020941481557,\n",
       " 0.0017823246347990133,\n",
       " -0.00345421257278901]"
      ]
     },
     "execution_count": 15,
     "metadata": {},
     "output_type": "execute_result"
    }
   ],
   "source": [
    "len(embedding)\n",
    "\n",
    "embedding[0][:10]"
   ]
  },
  {
   "cell_type": "code",
   "execution_count": 17,
   "id": "65725ef6",
   "metadata": {},
   "outputs": [
    {
     "data": {
      "text/plain": [
       "0.8079108877918035"
      ]
     },
     "execution_count": 17,
     "metadata": {},
     "output_type": "execute_result"
    }
   ],
   "source": [
    "import numpy as np  \n",
    "\n",
    "np.dot(embedding[0], embedding[2])"
   ]
  },
  {
   "cell_type": "code",
   "execution_count": null,
   "id": "85d92af4",
   "metadata": {},
   "outputs": [
    {
     "name": "stdout",
     "output_type": "stream",
     "text": [
      "1.0 |0.94 |0.81 |\n",
      "0.94 |1.0 |0.8 |\n",
      "0.81 |0.8 |1.0 |\n"
     ]
    }
   ],
   "source": [
    "# Cria uma matriz de confusão entre cada embeding, deve ter alguma maneira melhor de fazer isso usando outra lib\n",
    "\n",
    "for i in range(len(embedding)):\n",
    "    for j in range(len(embedding)):\n",
    "        print(round(np.dot(embedding[i], embedding[j]), 2), end=\" |\")\n",
    "        \n",
    "    print()"
   ]
  }
 ],
 "metadata": {
  "kernelspec": {
   "display_name": ".venv",
   "language": "python",
   "name": "python3"
  },
  "language_info": {
   "codemirror_mode": {
    "name": "ipython",
    "version": 3
   },
   "file_extension": ".py",
   "mimetype": "text/x-python",
   "name": "python",
   "nbconvert_exporter": "python",
   "pygments_lexer": "ipython3",
   "version": "3.12.10"
  }
 },
 "nbformat": 4,
 "nbformat_minor": 5
}
