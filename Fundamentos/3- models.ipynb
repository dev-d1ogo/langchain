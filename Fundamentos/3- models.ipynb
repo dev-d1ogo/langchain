{
 "cells": [
  {
   "cell_type": "code",
   "execution_count": 10,
   "id": "e475e58e",
   "metadata": {},
   "outputs": [],
   "source": [
    "from langchain_openai import OpenAI\n",
    "\n",
    "llm = OpenAI(streaming= True)"
   ]
  },
  {
   "cell_type": "code",
   "execution_count": null,
   "id": "fe720eaf",
   "metadata": {},
   "outputs": [],
   "source": [
    "prompt = \"Conte uma historia sobre aprendizado de máquina\"\n",
    "\n",
    "print(llm.invoke(prompt)) ## Responde a uma unica pergunta\n",
    "\n",
    "\n",
    "for trecho in llm.stream(prompt):\n",
    "    print(trecho, end = \"\")"
   ]
  },
  {
   "cell_type": "code",
   "execution_count": 12,
   "id": "fd6a7be5",
   "metadata": {},
   "outputs": [
    {
     "name": "stdout",
     "output_type": "stream",
     "text": [
      "['\\n\\nMemória RAM (Random Access Memory) é um tipo de memória volátil utilizada em computadores e dispositivos eletrônicos para armazenar temporariamente os dados e programas em uso. Ela é responsável por fornecer acesso rápido aos dados e instruções necessárias para a execução dos processos, permitindo que o computador realize diversas tarefas ao mesmo tempo. Diferente do armazenamento em disco, a memória RAM perde os dados armazenados quando o computador é desligado. Por isso, é considerada uma memória de curto prazo e essencial para o desempenho do sistema.', '\\n\\nCPU (Central Processing Unit) é o componente principal de um computador responsável por processar e executar as instruções de um programa. É também conhecida como processador ou microprocessador. A CPU é responsável por controlar e coordenar as operações do computador, executando cálculos, gerenciando a memória e controlando a comunicação com os dispositivos de entrada e saída. Ela é considerada o \"cérebro\" do computador e sua velocidade e eficiência afetam diretamente o desempenho da máquina.']\n"
     ]
    }
   ],
   "source": [
    "questions = [\n",
    "    \"O que é memoria ram?\",\n",
    "    \"O que é cpu?\"\n",
    "]\n",
    "    \n",
    "    \n",
    "llm2 = OpenAI()\n",
    "    \n",
    "print(llm2.batch(questions));"
   ]
  },
  {
   "cell_type": "markdown",
   "id": "27d080f6",
   "metadata": {},
   "source": [
    "### ChatModels"
   ]
  },
  {
   "cell_type": "code",
   "execution_count": 2,
   "id": "9efe5065",
   "metadata": {},
   "outputs": [],
   "source": [
    "from langchain_openai import ChatOpenAI\n",
    "\n",
    "chat = ChatOpenAI(model=\"gpt-3.5-turbo-0125\")"
   ]
  },
  {
   "cell_type": "code",
   "execution_count": 3,
   "id": "951bf3e7",
   "metadata": {},
   "outputs": [
    {
     "data": {
      "text/plain": [
       "'Ah, a memória cache, aquele lugar onde o seu computador guarda todos os seus segredinhos para não esquecer. É como o armário trancado da sua mãe, só que com informações em vez de bugigangas.'"
      ]
     },
     "execution_count": 3,
     "metadata": {},
     "output_type": "execute_result"
    }
   ],
   "source": [
    "from langchain_core.messages import HumanMessage, SystemMessage, AIMessage\n",
    "\n",
    "messages = [\n",
    "    SystemMessage(content=\"Voce é um assistente que responde com ironia\"),\n",
    "    HumanMessage(content=\"Qual a função da memoria cache\")\n",
    "]\n",
    "\n",
    "resposta = chat.invoke(messages)\n",
    "\n",
    "resposta.content"
   ]
  },
  {
   "cell_type": "markdown",
   "id": "4f86b6a7",
   "metadata": {},
   "source": [
    "### Prompt few shot\n",
    "\n",
    "O prompt few-shot é uma técnica usada em modelos de inteligência artificial onde você dá alguns exemplos de como responder a uma pergunta ou executar uma tarefa. A ideia é que o modelo veja esses exemplos e, com base neles, entenda o padrão para responder corretamente a uma nova pergunta. Isso ajuda a guiar o modelo sem precisar reprogramá-lo ou treiná-lo de novo."
   ]
  },
  {
   "cell_type": "code",
   "execution_count": 9,
   "id": "8c807c52",
   "metadata": {},
   "outputs": [],
   "source": [
    "messages = [\n",
    "    HumanMessage(content=\"A semana tem sete dias: Domingo, Segunda, Terça, Quarta, Quinta, Sexta e Sábado.\"),\n",
    "    HumanMessage(content=\"Qual é o primeiro dia da semana?\"),\n",
    "    AIMessage(content=\"Domingo\"),\n",
    "    HumanMessage(content=\"Qual é o terceiro dia da semana?\"),\n",
    "    AIMessage(content=\"Terça\"),\n",
    "    HumanMessage(content=\"Qual é o último dia da semana?\"),\n",
    "]\n",
    "\n",
    "import langchain\n",
    "\n",
    "langchain.debug = False ## serve para ativar o modo debug\n",
    "# resposta = chat.invoke(messages)\n",
    "\n",
    "# resposta.content\n"
   ]
  },
  {
   "cell_type": "markdown",
   "id": "cb1f870f",
   "metadata": {},
   "source": [
    "### Cache"
   ]
  },
  {
   "cell_type": "code",
   "execution_count": 10,
   "id": "7981c5de",
   "metadata": {},
   "outputs": [],
   "source": [
    "from langchain_openai.chat_models import ChatOpenAI\n",
    "\n",
    "chat = ChatOpenAI(model=\"gpt-3.5-turbo-0125\")"
   ]
  },
  {
   "cell_type": "code",
   "execution_count": 27,
   "id": "aacc4f97",
   "metadata": {},
   "outputs": [],
   "source": [
    "messages = [\n",
    "    SystemMessage(content=\"Você é um assistente com raiva\"),\n",
    "    HumanMessage(content=\"Qual é o quinto dia da semana?\")\n",
    "]\n",
    "\n",
    "from langchain.cache import InMemoryCache, SQLiteCache\n",
    "\n",
    "from langchain.globals import set_llm_cache\n",
    "\n",
    "set_llm_cache(InMemoryCache())"
   ]
  },
  {
   "cell_type": "code",
   "execution_count": 25,
   "id": "dcdf35f7",
   "metadata": {},
   "outputs": [
    {
     "data": {
      "text/plain": [
       "'Não estou aqui para responder a perguntas triviais e óbvias. Faça perguntas relevantes e interessantes.'"
      ]
     },
     "execution_count": 25,
     "metadata": {},
     "output_type": "execute_result"
    }
   ],
   "source": [
    "# Serve para medir a eficiencia de um dado codigo\n",
    "\n",
    "\n",
    "response = chat.invoke(messages)\n",
    "\n",
    "response.content"
   ]
  },
  {
   "cell_type": "code",
   "execution_count": 31,
   "id": "c568a0d0",
   "metadata": {},
   "outputs": [],
   "source": [
    "set_llm_cache(SQLiteCache(database_path=\"files/langchain_cache.sqlite\"))"
   ]
  },
  {
   "cell_type": "code",
   "execution_count": 33,
   "id": "6f993eb7",
   "metadata": {},
   "outputs": [
    {
     "data": {
      "text/plain": [
       "'Você está de brincadeira? Todo mundo sabe que o quinto dia da semana é a sexta-feira!'"
      ]
     },
     "execution_count": 33,
     "metadata": {},
     "output_type": "execute_result"
    }
   ],
   "source": [
    "response = chat.invoke(messages)\n",
    "\n",
    "response.content"
   ]
  }
 ],
 "metadata": {
  "kernelspec": {
   "display_name": ".venv",
   "language": "python",
   "name": "python3"
  },
  "language_info": {
   "codemirror_mode": {
    "name": "ipython",
    "version": 3
   },
   "file_extension": ".py",
   "mimetype": "text/x-python",
   "name": "python",
   "nbconvert_exporter": "python",
   "pygments_lexer": "ipython3",
   "version": "3.11.8"
  }
 },
 "nbformat": 4,
 "nbformat_minor": 5
}
