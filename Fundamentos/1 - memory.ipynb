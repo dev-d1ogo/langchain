{
 "cells": [
  {
   "cell_type": "code",
   "execution_count": 6,
   "id": "cf5e1749",
   "metadata": {},
   "outputs": [],
   "source": [
    "from langchain.memory import ConversationBufferMemory\n",
    "\n",
    "\n",
    "memory = ConversationBufferMemory(return_messages=True)\n",
    "\n",
    "memory.chat_memory.add_user_message(\"Olá\")\n",
    "\n",
    "memory.chat_memory.add_ai_message(\"Como vai?\")"
   ]
  },
  {
   "cell_type": "code",
   "execution_count": 7,
   "id": "da66ad9d",
   "metadata": {},
   "outputs": [
    {
     "data": {
      "text/plain": [
       "{'history': [HumanMessage(content='Olá', additional_kwargs={}, response_metadata={}),\n",
       "  AIMessage(content='Como vai?', additional_kwargs={}, response_metadata={})]}"
      ]
     },
     "execution_count": 7,
     "metadata": {},
     "output_type": "execute_result"
    }
   ],
   "source": [
    "memory.load_memory_variables({})"
   ]
  },
  {
   "cell_type": "code",
   "execution_count": 8,
   "id": "e77c5523",
   "metadata": {},
   "outputs": [
    {
     "name": "stdout",
     "output_type": "stream",
     "text": [
      "\n",
      "\n",
      "\u001b[1m> Entering new ConversationChain chain...\u001b[0m\n",
      "Prompt after formatting:\n",
      "\u001b[32;1m\u001b[1;3mThe following is a friendly conversation between a human and an AI. The AI is talkative and provides lots of specific details from its context. If the AI does not know the answer to a question, it truthfully says it does not know.\n",
      "\n",
      "Current conversation:\n",
      "[HumanMessage(content='Olá', additional_kwargs={}, response_metadata={}), AIMessage(content='Como vai?', additional_kwargs={}, response_metadata={})]\n",
      "Human: Olá meu nome é Diogo\n",
      "AI:\u001b[0m\n",
      "\n",
      "\u001b[1m> Finished chain.\u001b[0m\n"
     ]
    },
    {
     "data": {
      "text/plain": [
       "'Olá Diogo! Prazer em conhecê-lo. Eu sou um assistente de inteligência artificial programado para ajudar com suas dúvidas e fornecer informações úteis. Como posso ajudá-lo hoje?'"
      ]
     },
     "execution_count": 8,
     "metadata": {},
     "output_type": "execute_result"
    }
   ],
   "source": [
    "from langchain_openai.chat_models import ChatOpenAI \n",
    "\n",
    "from langchain.chains.conversation.base import ConversationChain\n",
    "\n",
    "chat  = ChatOpenAI()\n",
    "\n",
    "conversation = ConversationChain(llm=chat, memory=memory, verbose=True)\n",
    "\n",
    "conversation.predict(input=\"Olá meu nome é Diogo\")"
   ]
  },
  {
   "cell_type": "code",
   "execution_count": 9,
   "id": "60e03f7b",
   "metadata": {},
   "outputs": [
    {
     "name": "stdout",
     "output_type": "stream",
     "text": [
      "\n",
      "\n",
      "\u001b[1m> Entering new ConversationChain chain...\u001b[0m\n",
      "Prompt after formatting:\n",
      "\u001b[32;1m\u001b[1;3mThe following is a friendly conversation between a human and an AI. The AI is talkative and provides lots of specific details from its context. If the AI does not know the answer to a question, it truthfully says it does not know.\n",
      "\n",
      "Current conversation:\n",
      "[HumanMessage(content='Olá', additional_kwargs={}, response_metadata={}), AIMessage(content='Como vai?', additional_kwargs={}, response_metadata={}), HumanMessage(content='Olá meu nome é Diogo', additional_kwargs={}, response_metadata={}), AIMessage(content='Olá Diogo! Prazer em conhecê-lo. Eu sou um assistente de inteligência artificial programado para ajudar com suas dúvidas e fornecer informações úteis. Como posso ajudá-lo hoje?', additional_kwargs={}, response_metadata={})]\n",
      "Human: Qual é o meu nome?\n",
      "AI:\u001b[0m\n",
      "\n",
      "\u001b[1m> Finished chain.\u001b[0m\n"
     ]
    },
    {
     "data": {
      "text/plain": [
       "{'input': 'Qual é o meu nome?',\n",
       " 'history': [HumanMessage(content='Olá', additional_kwargs={}, response_metadata={}),\n",
       "  AIMessage(content='Como vai?', additional_kwargs={}, response_metadata={}),\n",
       "  HumanMessage(content='Olá meu nome é Diogo', additional_kwargs={}, response_metadata={}),\n",
       "  AIMessage(content='Olá Diogo! Prazer em conhecê-lo. Eu sou um assistente de inteligência artificial programado para ajudar com suas dúvidas e fornecer informações úteis. Como posso ajudá-lo hoje?', additional_kwargs={}, response_metadata={}),\n",
       "  HumanMessage(content='Qual é o meu nome?', additional_kwargs={}, response_metadata={}),\n",
       "  AIMessage(content='Seu nome é Diogo. Como posso ajudá-lo hoje?', additional_kwargs={}, response_metadata={})],\n",
       " 'response': 'Seu nome é Diogo. Como posso ajudá-lo hoje?'}"
      ]
     },
     "execution_count": 9,
     "metadata": {},
     "output_type": "execute_result"
    }
   ],
   "source": [
    "conversation.invoke(input=\"Qual é o meu nome?\")"
   ]
  },
  {
   "cell_type": "markdown",
   "id": "186ee5b3",
   "metadata": {},
   "source": [
    "### Outro tipo de memoria"
   ]
  },
  {
   "cell_type": "code",
   "execution_count": 10,
   "id": "7f8b1a4e",
   "metadata": {},
   "outputs": [],
   "source": [
    "from langchain.memory import ConversationTokenBufferMemory\n"
   ]
  },
  {
   "cell_type": "code",
   "execution_count": 14,
   "id": "2dc7e91b",
   "metadata": {},
   "outputs": [],
   "source": [
    "memory = ConversationTokenBufferMemory(llm=chat, max_token_limit=250,return_messages=True)\n",
    "\n",
    "\n",
    "conversation = ConversationChain(llm=chat, memory=memory, verbose=True)"
   ]
  },
  {
   "cell_type": "code",
   "execution_count": 15,
   "id": "aa84d74c",
   "metadata": {},
   "outputs": [
    {
     "name": "stdout",
     "output_type": "stream",
     "text": [
      "\n",
      "\n",
      "\u001b[1m> Entering new ConversationChain chain...\u001b[0m\n",
      "Prompt after formatting:\n",
      "\u001b[32;1m\u001b[1;3mThe following is a friendly conversation between a human and an AI. The AI is talkative and provides lots of specific details from its context. If the AI does not know the answer to a question, it truthfully says it does not know.\n",
      "\n",
      "Current conversation:\n",
      "[]\n",
      "Human: Faça um texto sobre IA de 400 palavras\n",
      "AI:\u001b[0m\n",
      "\n",
      "\u001b[1m> Finished chain.\u001b[0m\n"
     ]
    },
    {
     "data": {
      "text/plain": [
       "{'input': 'Faça um texto sobre IA de 400 palavras',\n",
       " 'history': [],\n",
       " 'response': 'A inteligência artificial (IA) é um campo da computação que busca desenvolver sistemas capazes de realizar tarefas que normalmente necessitam de inteligência humana. Esses sistemas são capazes de aprender, raciocinar e tomar decisões com base em dados e algoritmos. A IA tem aplicações em diversas áreas, como medicina, finanças, manufatura, entre outras.\\n\\nUm dos principais aspectos da IA é o aprendizado de máquina, onde os algoritmos são treinados com grandes quantidades de dados para reconhecer padrões e realizar previsões. Isso permite que os sistemas de IA possam automatizar tarefas complexas e tomar decisões com precisão, muitas vezes em tempo real.\\n\\nOutra área em crescimento é a IA cognitiva, que envolve a capacidade dos sistemas de IA de compreender e interagir com os seres humanos de forma mais natural. Isso inclui a capacidade de processar linguagem natural, reconhecer imagens e até mesmo detectar emoções.\\n\\nAlém disso, a IA também está sendo usada no desenvolvimento de assistentes virtuais, como a Siri da Apple, a Alexa da Amazon e o Google Assistant. Esses assistentes são capazes de responder a perguntas, realizar tarefas simples e até mesmo controlar dispositivos domésticos conectados à internet.\\n\\nNo entanto, apesar de todos os avanços na área de IA, ainda existem desafios a serem superados. Um dos principais desafios é a questão da ética e da privacidade dos dados. Como os sistemas de IA são alimentados por grandes quantidades de dados, é fundamental garantir que esses dados sejam protegidos e utilizados de forma responsável.\\n\\nEm resumo, a inteligência artificial está transformando a maneira como interagimos com a tecnologia e está abrindo novas possibilidades em diversas áreas. Com o avanço da tecnologia, podemos esperar que a IA se torne cada vez mais integrada ao nosso dia a dia, facilitando tarefas e trazendo mais eficiência para as nossas vidas.'}"
      ]
     },
     "execution_count": 15,
     "metadata": {},
     "output_type": "execute_result"
    }
   ],
   "source": [
    "conversation.invoke(input=\"Faça um texto sobre IA de 400 palavras\")"
   ]
  },
  {
   "cell_type": "code",
   "execution_count": 18,
   "id": "9dfb9c69",
   "metadata": {},
   "outputs": [
    {
     "name": "stdout",
     "output_type": "stream",
     "text": [
      "\n",
      "\n",
      "\u001b[1m> Entering new ConversationChain chain...\u001b[0m\n",
      "Prompt after formatting:\n",
      "\u001b[32;1m\u001b[1;3mThe following is a friendly conversation between a human and an AI. The AI is talkative and provides lots of specific details from its context. If the AI does not know the answer to a question, it truthfully says it does not know.\n",
      "\n",
      "Current conversation:\n",
      "[HumanMessage(content='Resuma o texto anterior em 20 palavras', additional_kwargs={}, response_metadata={}), AIMessage(content='O texto anterior fala sobre uma conversa amigável entre um humano e uma IA que fornece muitos detalhes específicos.', additional_kwargs={}, response_metadata={}), HumanMessage(content='Resuma o texto anterior em 20 palavras', additional_kwargs={}, response_metadata={}), AIMessage(content='O texto anterior descreve uma conversa amigável entre um humano e uma IA que fornece muitos detalhes específicos.', additional_kwargs={}, response_metadata={})]\n",
      "Human: Resuma o texto anterior em 20 palavras\n",
      "AI:\u001b[0m\n",
      "\n",
      "\u001b[1m> Finished chain.\u001b[0m\n"
     ]
    },
    {
     "data": {
      "text/plain": [
       "{'input': 'Resuma o texto anterior em 20 palavras',\n",
       " 'history': [HumanMessage(content='Resuma o texto anterior em 20 palavras', additional_kwargs={}, response_metadata={}),\n",
       "  AIMessage(content='O texto anterior fala sobre uma conversa amigável entre um humano e uma IA que fornece muitos detalhes específicos.', additional_kwargs={}, response_metadata={}),\n",
       "  HumanMessage(content='Resuma o texto anterior em 20 palavras', additional_kwargs={}, response_metadata={}),\n",
       "  AIMessage(content='O texto anterior descreve uma conversa amigável entre um humano e uma IA que fornece muitos detalhes específicos.', additional_kwargs={}, response_metadata={}),\n",
       "  HumanMessage(content='Resuma o texto anterior em 20 palavras', additional_kwargs={}, response_metadata={}),\n",
       "  AIMessage(content='O texto anterior descreve uma conversa amigável entre um humano e uma IA que fornece muitos detalhes específicos.', additional_kwargs={}, response_metadata={})],\n",
       " 'response': 'O texto anterior descreve uma conversa amigável entre um humano e uma IA que fornece muitos detalhes específicos.'}"
      ]
     },
     "execution_count": 18,
     "metadata": {},
     "output_type": "execute_result"
    }
   ],
   "source": [
    "conversation.invoke(input=\"Resuma o texto anterior em 20 palavras\")"
   ]
  }
 ],
 "metadata": {
  "kernelspec": {
   "display_name": ".venv",
   "language": "python",
   "name": "python3"
  },
  "language_info": {
   "codemirror_mode": {
    "name": "ipython",
    "version": 3
   },
   "file_extension": ".py",
   "mimetype": "text/x-python",
   "name": "python",
   "nbconvert_exporter": "python",
   "pygments_lexer": "ipython3",
   "version": "3.11.8"
  }
 },
 "nbformat": 4,
 "nbformat_minor": 5
}
