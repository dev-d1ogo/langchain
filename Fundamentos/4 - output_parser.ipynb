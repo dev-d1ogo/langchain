{
 "cells": [
  {
   "cell_type": "code",
   "execution_count": 8,
   "id": "ca5e7c7c",
   "metadata": {},
   "outputs": [],
   "source": [
    "feedback_produto = \"\"\"\"\n",
    "O Galaxy a54 me surpreendeu positivamente em vários aspectos. O design é elegante e leve, com acabamento premium que passa uma ótima sensação ao segurar. A tela tem cores vibrantes e excelente definição, ideal para quem consome muitos vídeos ou jogos.\n",
    "\n",
    "O desempenho é muito bom: aplicativos abrem rapidamente e não percebi travamentos, mesmo com várias tarefas simultâneas. A câmera entrega fotos de alta qualidade, especialmente em ambientes bem iluminados, e o modo noturno também é satisfatório.\n",
    "\n",
    "A bateria tem uma boa duração, aguentando um dia inteiro de uso moderado a intenso, e o carregamento rápido realmente cumpre o que promete.\n",
    "\n",
    "Como ponto de melhoria, achei que o aparelho poderia oferecer uma resistência maior à água e o preço poderia ser um pouco mais competitivo em relação a modelos similares.\n",
    "\n",
    "No geral, estou muito satisfeito com a compra e considero o smartphone uma excelente escolha para quem busca desempenho e qualidade em um único aparelho.\n",
    "\"\"\""
   ]
  },
  {
   "cell_type": "code",
   "execution_count": 9,
   "id": "65fcc7dd",
   "metadata": {},
   "outputs": [
    {
     "name": "stdout",
     "output_type": "stream",
     "text": [
      "\n",
      "Dado o texto de avaliação de um cliente, extraia as seguintes informações e retorne um objeto JSON:\n",
      "\n",
      "- produto: Nome do produto mencionado no texto.\n",
      "- caracteristicas_positivas: Lista de todas as características positivas destacadas sobre o produto.\n",
      "- caracteristicas_negativas: Lista de todas as características negativas apontadas sobre o produto.\n",
      "- recomendacao: \"sim\" se o cliente recomenda o produto; caso contrário, \"não\".\n",
      "\n",
      "Exemplo de saída JSON:\n",
      "{\n",
      "  \"produto\": \"Nome do Produto\",\n",
      "  \"caracteristicas_positivas\": [\"excelente desempenho\",\"bateria de longa duração\"],\n",
      "  \"caracteristicas_negativas\": [\"preço elevado\",\"falta de resistência à água\"],\n",
      "  \"recomendacao\": \"sim\"\n",
      "}\n",
      "\n",
      "Texto da avaliação:\n",
      "\"\n",
      "O Galaxy a54 me surpreendeu positivamente em vários aspectos. O design é elegante e leve, com acabamento premium que passa uma ótima sensação ao segurar. A tela tem cores vibrantes e excelente definição, ideal para quem consome muitos vídeos ou jogos.\n",
      "\n",
      "O desempenho é muito bom: aplicativos abrem rapidamente e não percebi travamentos, mesmo com várias tarefas simultâneas. A câmera entrega fotos de alta qualidade, especialmente em ambientes bem iluminados, e o modo noturno também é satisfatório.\n",
      "\n",
      "A bateria tem uma boa duração, aguentando um dia inteiro de uso moderado a intenso, e o carregamento rápido realmente cumpre o que promete.\n",
      "\n",
      "Como ponto de melhoria, achei que o aparelho poderia oferecer uma resistência maior à água e o preço poderia ser um pouco mais competitivo em relação a modelos similares.\n",
      "\n",
      "No geral, estou muito satisfeito com a compra e considero o smartphone uma excelente escolha para quem busca desempenho e qualidade em um único aparelho.\n",
      "\n",
      "\n"
     ]
    }
   ],
   "source": [
    "from langchain.prompts import ChatPromptTemplate\n",
    "\n",
    "review_template = ChatPromptTemplate.from_template(\n",
    "    \"\"\"\n",
    "Dado o texto de avaliação de um cliente, extraia as seguintes informações e retorne um objeto JSON:\n",
    "\n",
    "- produto: Nome do produto mencionado no texto.\n",
    "- caracteristicas_positivas: Lista de todas as características positivas destacadas sobre o produto.\n",
    "- caracteristicas_negativas: Lista de todas as características negativas apontadas sobre o produto.\n",
    "- recomendacao: \"sim\" se o cliente recomenda o produto; caso contrário, \"não\".\n",
    "\n",
    "Exemplo de saída JSON:\n",
    "{{\n",
    "  \"produto\": \"Nome do Produto\",\n",
    "  \"caracteristicas_positivas\": [\"excelente desempenho\",\"bateria de longa duração\"],\n",
    "  \"caracteristicas_negativas\": [\"preço elevado\",\"falta de resistência à água\"],\n",
    "  \"recomendacao\": \"sim\"\n",
    "}}\n",
    "\n",
    "Texto da avaliação:\n",
    "{review}\n",
    "\"\"\"\n",
    ")\n",
    "\n",
    "# Para exibir apenas o conteúdo formatado (sem mostrar roles), por exemplo:\n",
    "mensagens = review_template.format_messages(review=feedback_produto)\n",
    "for msg in mensagens:\n",
    "    print(msg.content)"
   ]
  },
  {
   "cell_type": "code",
   "execution_count": 10,
   "id": "4cffef45",
   "metadata": {},
   "outputs": [
    {
     "name": "stdout",
     "output_type": "stream",
     "text": [
      "content='{\\n  \"produto\": \"Galaxy a54\",\\n  \"caracteristicas_positivas\": [\"design elegante e leve\",\"tela com cores vibrantes e excelente definição\",\"bom desempenho\",\"câmera de alta qualidade\",\"bateria com boa duração\",\"carregamento rápido\"],\\n  \"caracteristicas_negativas\": [\"falta de resistência à água\",\"preço elevado\"],\\n  \"recomendacao\": \"sim\"\\n}' additional_kwargs={'refusal': None} response_metadata={'token_usage': {'completion_tokens': 103, 'prompt_tokens': 442, 'total_tokens': 545, 'completion_tokens_details': {'accepted_prediction_tokens': 0, 'audio_tokens': 0, 'reasoning_tokens': 0, 'rejected_prediction_tokens': 0}, 'prompt_tokens_details': {'audio_tokens': 0, 'cached_tokens': 0}}, 'model_name': 'gpt-3.5-turbo-0125', 'system_fingerprint': None, 'id': 'chatcmpl-BfX0cLaJHF0ToPbBDbPyeogmwlmcd', 'service_tier': 'default', 'finish_reason': 'stop', 'logprobs': None} id='run--771188b3-5483-4530-b5ab-95b616a9f0fa-0' usage_metadata={'input_tokens': 442, 'output_tokens': 103, 'total_tokens': 545, 'input_token_details': {'audio': 0, 'cache_read': 0}, 'output_token_details': {'audio': 0, 'reasoning': 0}}\n"
     ]
    }
   ],
   "source": [
    "from langchain_openai.chat_models import ChatOpenAI\n",
    "\n",
    "chat = ChatOpenAI(temperature=0.6)\n",
    "\n",
    "response = chat.invoke(mensagens)\n",
    "\n",
    "print(response)"
   ]
  },
  {
   "cell_type": "code",
   "execution_count": 11,
   "id": "021a81cc",
   "metadata": {},
   "outputs": [
    {
     "name": "stdout",
     "output_type": "stream",
     "text": [
      "[ResponseSchema(name='produto', description='Nome do produto mencionado no texto.', type='str'), ResponseSchema(name='caracteristicas_positivas', description='Lista de todas as características positivas destacadas sobre o produto.', type='list'), ResponseSchema(name='caracteristicas_negativas', description='Lista de todas as características negativas apontadas sobre o produto.', type='list'), ResponseSchema(name='recomendacao', description='“sim” se o cliente recomenda o produto; caso contrário, “não”.', type='bool')]\n"
     ]
    }
   ],
   "source": [
    "from langchain.output_parsers import ResponseSchema\n",
    "\n",
    "from langchain.output_parsers import StructuredOutputParser\n",
    "\n",
    "produto_schema = ResponseSchema(\n",
    "    name=\"produto\", description=\"Nome do produto mencionado no texto.\", type=\"str\"\n",
    ")\n",
    "\n",
    "caracteristicas_ativas_schema = ResponseSchema(\n",
    "    name=\"caracteristicas_positivas\",\n",
    "    description=\"Lista de todas as características positivas destacadas sobre o produto.\",\n",
    "    type=\"list\"\n",
    ")\n",
    "\n",
    "caracteristicas_negativas_schema = ResponseSchema(\n",
    "    name=\"caracteristicas_negativas\",\n",
    "    description=\"Lista de todas as características negativas apontadas sobre o produto.\",\n",
    "    type=\"list\",\n",
    ")\n",
    "\n",
    "recomendacao_schema = ResponseSchema(\n",
    "    name=\"recomendacao\",\n",
    "    description=\"“sim” se o cliente recomenda o produto; caso contrário, “não”.\",\n",
    "    type=\"bool\",\n",
    ")\n",
    "\n",
    "# 2. Monte a lista de schemas usando as variáveis criadas acima\n",
    "response_schema = [\n",
    "    produto_schema,\n",
    "    caracteristicas_ativas_schema,\n",
    "    caracteristicas_negativas_schema,\n",
    "    recomendacao_schema,\n",
    "]\n",
    "\n",
    "print(response_schema)"
   ]
  },
  {
   "cell_type": "code",
   "execution_count": 12,
   "id": "25869585",
   "metadata": {},
   "outputs": [
    {
     "name": "stdout",
     "output_type": "stream",
     "text": [
      "The output should be a markdown code snippet formatted in the following schema, including the leading and trailing \"```json\" and \"```\":\n",
      "\n",
      "```json\n",
      "{\n",
      "\t\"produto\": str  // Nome do produto mencionado no texto.\n",
      "\t\"caracteristicas_positivas\": list  // Lista de todas as características positivas destacadas sobre o produto.\n",
      "\t\"caracteristicas_negativas\": list  // Lista de todas as características negativas apontadas sobre o produto.\n",
      "\t\"recomendacao\": bool  // “sim” se o cliente recomenda o produto; caso contrário, “não”.\n",
      "}\n",
      "```\n"
     ]
    }
   ],
   "source": [
    "output_parser = StructuredOutputParser.from_response_schemas(response_schema)\n",
    "\n",
    "formated_schema = output_parser.get_format_instructions()\n",
    "\n",
    "print(formated_schema)"
   ]
  },
  {
   "cell_type": "code",
   "execution_count": 13,
   "id": "38bad2fa",
   "metadata": {},
   "outputs": [],
   "source": [
    "review_template2 = ChatPromptTemplate.from_template(\"\"\"\n",
    "Para o texto a seguir extraia as informações baseado no schema;         \n",
    "\n",
    "Texto: {review}\n",
    "\n",
    "Schema: {schema}                                           \n",
    "\"\"\", partial_variables={\"schema\": formated_schema, 'review': feedback_produto})"
   ]
  },
  {
   "cell_type": "code",
   "execution_count": 14,
   "id": "bbda2eab",
   "metadata": {},
   "outputs": [
    {
     "data": {
      "text/plain": [
       "'```json\\n{\\n\\t\"produto\": \"Galaxy a54\",\\n\\t\"caracteristicas_positivas\": [\"Design elegante e leve\", \"Tela com cores vibrantes e excelente definição\", \"Desempenho muito bom\", \"Câmera entrega fotos de alta qualidade\", \"Bateria com boa duração\", \"Carregamento rápido\"],\\n\\t\"caracteristicas_negativas\": [\"Falta de resistência maior à água\", \"Preço poderia ser mais competitivo\"],\\n\\t\"recomendacao\": \"sim\"\\n}\\n```'"
      ]
     },
     "execution_count": 14,
     "metadata": {},
     "output_type": "execute_result"
    }
   ],
   "source": [
    "from typing import TypedDict, List\n",
    "\n",
    "class ReviewOutput(TypedDict):\n",
    "    produto: str\n",
    "    caracteristicas_positivas: List[str]\n",
    "    caracteristicas_negativas: List[str]\n",
    "    recomendacao: str\n",
    "\n",
    "\n",
    "response = chat.invoke(review_template2.format_messages())\n",
    "\n",
    "response.content"
   ]
  },
  {
   "cell_type": "code",
   "execution_count": 15,
   "id": "3cd34881",
   "metadata": {},
   "outputs": [
    {
     "data": {
      "text/plain": [
       "['Falta de resistência maior à água', 'Preço poderia ser mais competitivo']"
      ]
     },
     "execution_count": 15,
     "metadata": {},
     "output_type": "execute_result"
    }
   ],
   "source": [
    "response_json: ReviewOutput = output_parser.parse(response.content)\n",
    "\n",
    "\n",
    "response_json.get('caracteristicas_negativas')"
   ]
  },
  {
   "cell_type": "code",
   "execution_count": null,
   "id": "ade5996c",
   "metadata": {},
   "outputs": [],
   "source": []
  }
 ],
 "metadata": {
  "kernelspec": {
   "display_name": ".venv",
   "language": "python",
   "name": "python3"
  },
  "language_info": {
   "codemirror_mode": {
    "name": "ipython",
    "version": 3
   },
   "file_extension": ".py",
   "mimetype": "text/x-python",
   "name": "python",
   "nbconvert_exporter": "python",
   "pygments_lexer": "ipython3",
   "version": "3.11.8"
  }
 },
 "nbformat": 4,
 "nbformat_minor": 5
}
