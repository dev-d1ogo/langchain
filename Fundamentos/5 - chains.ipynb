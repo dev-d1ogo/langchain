{
 "cells": [
  {
   "cell_type": "code",
   "execution_count": 1,
   "id": "7ac29d2c",
   "metadata": {},
   "outputs": [],
   "source": [
    "from langchain_openai.chat_models import ChatOpenAI\n",
    "from langchain.memory import ConversationBufferMemory\n",
    "from langchain.chains.conversation.base import ConversationChain\n"
   ]
  },
  {
   "cell_type": "code",
   "execution_count": 3,
   "id": "3c092630",
   "metadata": {},
   "outputs": [],
   "source": [
    "chat = ChatOpenAI(model=\"gpt-3.5-turbo-0125\")\n",
    "\n",
    "memory = ConversationBufferMemory()\n",
    "\n",
    "chain = ConversationChain(llm=chat, memory=memory, verbose= True)"
   ]
  },
  {
   "cell_type": "code",
   "execution_count": 5,
   "id": "d3c885bb",
   "metadata": {},
   "outputs": [
    {
     "name": "stdout",
     "output_type": "stream",
     "text": [
      "\n",
      "\n",
      "\u001b[1m> Entering new ConversationChain chain...\u001b[0m\n",
      "Prompt after formatting:\n",
      "\u001b[32;1m\u001b[1;3mThe following is a friendly conversation between a human and an AI. The AI is talkative and provides lots of specific details from its context. If the AI does not know the answer to a question, it truthfully says it does not know.\n",
      "\n",
      "Current conversation:\n",
      "Human: Olá\n",
      "AI: Olá! Como você está hoje? Estou aqui para ajudá-lo com qualquer dúvida ou informação que você precisar. O que posso fazer por você hoje?\n",
      "Human: olá\n",
      "AI:\u001b[0m\n",
      "\n",
      "\u001b[1m> Finished chain.\u001b[0m\n"
     ]
    },
    {
     "data": {
      "text/plain": [
       "{'input': 'olá',\n",
       " 'history': 'Human: Olá\\nAI: Olá! Como você está hoje? Estou aqui para ajudá-lo com qualquer dúvida ou informação que você precisar. O que posso fazer por você hoje?',\n",
       " 'response': 'Olá novamente! Parece que você já disse isso antes. Como posso ajudá-lo hoje? Estou aqui para responder a qualquer pergunta ou fornecer informações relevantes para você. O que você gostaria de saber?'}"
      ]
     },
     "execution_count": 5,
     "metadata": {},
     "output_type": "execute_result"
    }
   ],
   "source": [
    "chain.invoke(\"olá\")"
   ]
  },
  {
   "cell_type": "markdown",
   "id": "6237baf9",
   "metadata": {},
   "source": [
    "### Adidionando um prompt template\n"
   ]
  },
  {
   "cell_type": "code",
   "execution_count": 11,
   "id": "3d74edab",
   "metadata": {},
   "outputs": [],
   "source": [
    "from langchain.prompts import PromptTemplate\n",
    "\n",
    "prompt_template = PromptTemplate.from_template(\"\"\"\n",
    "Essa é uma conversa amigável entre um humano e uma IA, sendo a IA um especialista em petróleo que não deve responder qualquer coisa que fuja do tema\n",
    "\n",
    "Conversa atual:\n",
    "{history}\n",
    "\n",
    "Human: {input}\n",
    " \"\"\")\n"
   ]
  },
  {
   "cell_type": "code",
   "execution_count": 9,
   "id": "d590bf4f",
   "metadata": {},
   "outputs": [],
   "source": [
    "chat = ChatOpenAI(model=\"gpt-3.5-turbo-0125\")\n",
    "\n",
    "memory = ConversationBufferMemory()\n",
    "\n",
    "chain = ConversationChain(llm=chat, memory=memory, verbose=True, prompt=prompt_template)"
   ]
  },
  {
   "cell_type": "code",
   "execution_count": null,
   "id": "1674704e",
   "metadata": {},
   "outputs": [
    {
     "name": "stderr",
     "output_type": "stream",
     "text": [
      "/var/folders/q_/pv_kmv_d02d1r2gyfwzpjyfm0000gn/T/ipykernel_26172/785148566.py:1: LangChainDeprecationWarning: The method `Chain.run` was deprecated in langchain 0.1.0 and will be removed in 1.0. Use :meth:`~invoke` instead.\n",
      "  chain.run(\"Qual é o clima em Aracaju?\")\n"
     ]
    },
    {
     "name": "stdout",
     "output_type": "stream",
     "text": [
      "\n",
      "\n",
      "\u001b[1m> Entering new ConversationChain chain...\u001b[0m\n",
      "Prompt after formatting:\n",
      "\u001b[32;1m\u001b[1;3m\n",
      "Essa é uma conversa amigável entre um humano e uma IA, sendo a IA um especialista em petróleo que não deve responder qualquer coisa que fja do tema\n",
      "\n",
      "Conversa atual:\n",
      "\n",
      "\n",
      "Human: Qual é o clima em Aracaju?\n",
      " \u001b[0m\n",
      "\n",
      "\u001b[1m> Finished chain.\u001b[0m\n"
     ]
    },
    {
     "data": {
      "text/plain": [
       "'IA: Desculpe, mas não tenho informações sobre o clima de Aracaju. Meu conhecimento está mais voltado para o setor de petróleo. Posso te ajudar com alguma dúvida relacionada a isso?'"
      ]
     },
     "execution_count": 10,
     "metadata": {},
     "output_type": "execute_result"
    }
   ],
   "source": [
    "chain.run(\"Qual é o clima em Aracaju?\") "
   ]
  },
  {
   "cell_type": "markdown",
   "id": "52a51b6e",
   "metadata": {},
   "source": [
    "### Simple Sequential Chain\n"
   ]
  },
  {
   "cell_type": "code",
   "execution_count": 12,
   "id": "dde6217f",
   "metadata": {},
   "outputs": [
    {
     "name": "stderr",
     "output_type": "stream",
     "text": [
      "/var/folders/q_/pv_kmv_d02d1r2gyfwzpjyfm0000gn/T/ipykernel_26172/1538929880.py:8: LangChainDeprecationWarning: The class `LLMChain` was deprecated in LangChain 0.1.17 and will be removed in 1.0. Use :meth:`~RunnableSequence, e.g., `prompt | llm`` instead.\n",
      "  titulo_chain = LLMChain(llm=chat, prompt=titulo_prompt)\n"
     ]
    },
    {
     "name": "stdout",
     "output_type": "stream",
     "text": [
      "{'input': 'Machine Learning no futuro', 'output': 'Nos últimos anos, o Machine Learning tem se destacado como uma das tecnologias mais promissoras e revolucionárias do nosso tempo. A sua capacidade de aprender e se adaptar a partir de dados tem gerado impactos significativos em diversas indústrias, desde a saúde até o setor financeiro. Mas qual será o futuro do Machine Learning? E como a Inteligência Artificial seguirá transformando nosso mundo?\\n\\nPrimeiramente, é importante ressaltar que o Machine Learning está longe de atingir seu potencial máximo. A cada dia, novas técnicas, algoritmos e modelos são desenvolvidos para tornar os sistemas de aprendizado de máquina mais eficientes, precisos e escaláveis. Com isso, podemos esperar que a Inteligência Artificial continue evoluindo a passos largos, abrindo espaço para inovações em áreas como a mobilidade, a agricultura, a energia e muito mais.\\n\\nUma das principais tendências que marcará o futuro do Machine Learning é a personalização. Com o avanço da tecnologia, será possível criar sistemas que se adaptam às necessidades individuais de cada usuário, oferecendo soluções e recomendações mais assertivas e personalizadas. Isso pode beneficiar tanto os consumidores, que terão experiências mais relevantes e personalizadas, quanto as empresas, que poderão aumentar sua eficiência e melhorar seus resultados.\\n\\nAlém disso, a Inteligência Artificial também continuará contribuindo para a automatização de processos e a otimização de tarefas. Com a capacidade de analisar grandes volumes de dados em tempo real, os sistemas de Machine Learning poderão identificar padrões, prever tendências e tomar decisões de forma autônoma, acelerando processos e reduzindo custos.\\n\\nOutro ponto importante a se considerar é o impacto ético e social do Machine Learning. À medida que a tecnologia avança, surgem questões sobre privacidade, segurança e viés algorítmico, que precisam ser debatidas e endereçadas. É fundamental que a sociedade como um todo participe desse debate e trabalhe em conjunto para garantir que a Inteligência Artificial seja utilizada de forma responsável e ética.\\n\\nEm resumo, o futuro do Machine Learning é promissor e repleto de oportunidades. A Inteligência Artificial continuará revolucionando as indústrias, oferecendo soluções inovadoras, personalizadas e eficientes. No entanto, é essencial que estejamos atentos aos desafios éticos e sociais que surgirão no caminho, buscando sempre utilizar essa tecnologia de forma ética, responsável e inclusiva. O Machine Learning está apenas no começo de sua jornada, e as possibilidades são infinitas. Vamos juntos moldar o futuro da Inteligência Artificial e fazer dela uma força positiva para a sociedade.'}\n"
     ]
    }
   ],
   "source": [
    "from langchain.chains import SimpleSequentialChain\n",
    "from langchain.chains import LLMChain\n",
    "\n",
    "# Primeira Chain: gerar um título\n",
    "titulo_prompt = PromptTemplate.from_template(\n",
    "    \"Crie um título para um artigo sobre {tema}.\"\n",
    ")\n",
    "titulo_chain = LLMChain(llm=chat, prompt=titulo_prompt)\n",
    "\n",
    "# Segunda Chain: escrever o artigo\n",
    "artigo_prompt = PromptTemplate.from_template(\n",
    "    \"Escreva um artigo com base nesse título: {input}.\"\n",
    ")\n",
    "artigo_chain = LLMChain(llm=chat, prompt=artigo_prompt)\n",
    "\n",
    "# Chain Sequencial\n",
    "sequencial_chain = SimpleSequentialChain(chains=[titulo_chain, artigo_chain])\n",
    "\n",
    "res = sequencial_chain.invoke(\"Machine Learning no futuro\")\n",
    "print(res)"
   ]
  }
 ],
 "metadata": {
  "kernelspec": {
   "display_name": ".venv",
   "language": "python",
   "name": "python3"
  },
  "language_info": {
   "codemirror_mode": {
    "name": "ipython",
    "version": 3
   },
   "file_extension": ".py",
   "mimetype": "text/x-python",
   "name": "python",
   "nbconvert_exporter": "python",
   "pygments_lexer": "ipython3",
   "version": "3.11.8"
  }
 },
 "nbformat": 4,
 "nbformat_minor": 5
}
