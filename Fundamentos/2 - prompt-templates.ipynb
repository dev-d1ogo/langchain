{
 "cells": [
  {
   "cell_type": "code",
   "execution_count": 7,
   "id": "23267d9e",
   "metadata": {},
   "outputs": [],
   "source": [
    "from langchain_openai import OpenAI\n",
    "\n",
    "llm = OpenAI()"
   ]
  },
  {
   "cell_type": "code",
   "execution_count": 8,
   "id": "888d17f3",
   "metadata": {},
   "outputs": [
    {
     "name": "stdout",
     "output_type": "stream",
     "text": [
      "input_variables=['pergunta'] input_types={} partial_variables={'n_palavras': 100} template='\\nResponda a seguinte pergunta do usuário, em inglês e em português e em até {n_palavras} palavras\":\\n{pergunta}    \\n'\n"
     ]
    }
   ],
   "source": [
    "from langchain.prompts import PromptTemplate\n",
    "\n",
    "template = PromptTemplate.from_template(\"\"\"\n",
    "Responda a seguinte pergunta do usuário, em inglês e em português e em até {n_palavras} palavras\":\n",
    "{pergunta}    \n",
    "\"\"\", partial_variables={\"n_palavras\": 100})\n",
    "\n",
    "print(template)"
   ]
  },
  {
   "cell_type": "code",
   "execution_count": 19,
   "id": "1e4401aa",
   "metadata": {},
   "outputs": [
    {
     "data": {
      "text/plain": [
       "'\\nResponda a seguinte pergunta do usuário, em inglês e em português e em até 100 palavras\":\\nComo se chama o presidente do Brasil?     \\n'"
      ]
     },
     "execution_count": 19,
     "metadata": {},
     "output_type": "execute_result"
    }
   ],
   "source": [
    "# Dessa maneira conseguimos passar como parametro\n",
    "\n",
    "template.format(pergunta=\"Como se chama o presidente do Brasil? \")"
   ]
  },
  {
   "cell_type": "markdown",
   "id": "6e03d524",
   "metadata": {},
   "source": [
    "### Utilizando multiplos prompts\n"
   ]
  },
  {
   "cell_type": "code",
   "execution_count": null,
   "id": "4edce9a6",
   "metadata": {},
   "outputs": [
    {
     "name": "stdout",
     "output_type": "stream",
     "text": [
      "\n",
      "Responda a pergunta em até 20 palavras\n",
      "Responda a pergunta em até 10 linhas\n",
      "Responda em espanhol\n",
      "Qual a massa do Sol?\n",
      "\n",
      "\n",
      "La masa del Sol es aproximadamente de 1,989 x 10^30 kilogramos, lo que equivale a 333.000 veces la masa de la Tierra.\n"
     ]
    }
   ],
   "source": [
    "from langchain.prompts import PromptTemplate\n",
    "\n",
    "# 1. Cria uma string única com todas as instruções\n",
    "template_completo = \"\"\"\n",
    "Responda a pergunta em até {n_palavras} palavras\n",
    "Responda a pergunta em até {n_linhas} linhas\n",
    "Responda em {idioma}\n",
    "{pergunta}\n",
    "\"\"\"\n",
    "\n",
    "# 2. Constrói o PromptTemplate a partir dessa string\n",
    "prompt_template = PromptTemplate.from_template(template_completo)\n",
    "\n",
    "# 3. Preenche todos os valores dos placeholders\n",
    "prompt_final = prompt_template.format(\n",
    "    n_palavras=20, n_linhas=10, idioma=\"inglês\", pergunta=\"Qual a massa do Sol?\"\n",
    ")\n",
    "\n",
    "# 4. Confira como ficou\n",
    "print(prompt_final)\n",
    "\n",
    "resposta = llm.invoke(prompt_final)\n",
    "print(resposta)"
   ]
  },
  {
   "cell_type": "markdown",
   "id": "20cf8c98",
   "metadata": {},
   "source": [
    "### Template para chats"
   ]
  },
  {
   "cell_type": "code",
   "execution_count": 15,
   "id": "868027b1",
   "metadata": {},
   "outputs": [
    {
     "data": {
      "text/plain": [
       "[HumanMessage(content='Essa é minha dúvida: Quem é você?', additional_kwargs={}, response_metadata={})]"
      ]
     },
     "execution_count": 15,
     "metadata": {},
     "output_type": "execute_result"
    }
   ],
   "source": [
    "from langchain.prompts import ChatPromptTemplate\n",
    "\n",
    "chat_template = ChatPromptTemplate.from_template(\"Essa é minha dúvida: {duvida}\")\n",
    "\n",
    "chat_template.format_messages(duvida=\"Quem é você?\")"
   ]
  },
  {
   "cell_type": "code",
   "execution_count": null,
   "id": "1082d233",
   "metadata": {},
   "outputs": [],
   "source": [
    "from dataclasses import dataclass\n",
    "\n",
    "\n",
    "@dataclass\n",
    "class AssistenteInfo:\n",
    "    especialidade: str\n",
    "    nome_assistente: str\n",
    "    pergunta: str\n",
    "\n",
    "\n",
    "assistente_ctx = AssistenteInfo(\n",
    "    especialidade=\"Desenvolvimento mobile\",\n",
    "    nome_assistente=\"Nivora bot\",\n",
    "    pergunta=\"Qual é sua especialidade mesmo? Poderia me falar um pouco sobre maconha?\",\n",
    ")\n",
    "\n",
    "\n",
    "chat_template = ChatPromptTemplate.from_messages(\n",
    "    [\n",
    "        (\n",
    "            \"system\",\n",
    "            \"Você é um assistente especializado em {ctx.especialidade} e se chama {ctx.nome_assistente}\",\n",
    "        ),\n",
    "        (\"human\", \"Olá, como vai?\"),\n",
    "        (\"ai\", \"Estou bem, como posso te ajudar?\"),\n",
    "        (\"human\", \"{ctx.pergunta}\"),\n",
    "    ]\n",
    ")\n",
    "\n",
    "prompt_final = chat_template.format_messages(ctx=assistente_ctx)"
   ]
  },
  {
   "cell_type": "code",
   "execution_count": 24,
   "id": "1f486892",
   "metadata": {},
   "outputs": [
    {
     "data": {
      "text/plain": [
       "AIMessage(content='Minha especialidade é Desenvolvimento mobile. Sinto muito, mas não posso fornecer informações sobre maconha, pois não é apropriado para a minha área de atuação. Posso te ajudar com dúvidas relacionadas a desenvolvimento de aplicativos mobile, programação, tecnologias móveis, entre outros assuntos dentro desse campo. Como posso te auxiliar nessa área?', additional_kwargs={'refusal': None}, response_metadata={'token_usage': {'completion_tokens': 88, 'prompt_tokens': 76, 'total_tokens': 164, 'completion_tokens_details': {'accepted_prediction_tokens': 0, 'audio_tokens': 0, 'reasoning_tokens': 0, 'rejected_prediction_tokens': 0}, 'prompt_tokens_details': {'audio_tokens': 0, 'cached_tokens': 0}}, 'model_name': 'gpt-3.5-turbo-0125', 'system_fingerprint': None, 'id': 'chatcmpl-BdzCIF7Cvwf3uomrOSje3WXr9zZ1Q', 'service_tier': 'default', 'finish_reason': 'stop', 'logprobs': None}, id='run--7c8e811a-4166-4086-9cf1-ec1ad689c81b-0', usage_metadata={'input_tokens': 76, 'output_tokens': 88, 'total_tokens': 164, 'input_token_details': {'audio': 0, 'cache_read': 0}, 'output_token_details': {'audio': 0, 'reasoning': 0}})"
      ]
     },
     "execution_count": 24,
     "metadata": {},
     "output_type": "execute_result"
    }
   ],
   "source": [
    "from langchain_openai.chat_models import ChatOpenAI\n",
    "\n",
    "chat = ChatOpenAI(temperature=0.7)\n",
    "\n",
    "chat.invoke(prompt_final)"
   ]
  }
 ],
 "metadata": {
  "kernelspec": {
   "display_name": ".venv",
   "language": "python",
   "name": "python3"
  },
  "language_info": {
   "codemirror_mode": {
    "name": "ipython",
    "version": 3
   },
   "file_extension": ".py",
   "mimetype": "text/x-python",
   "name": "python",
   "nbconvert_exporter": "python",
   "pygments_lexer": "ipython3",
   "version": "3.11.8"
  }
 },
 "nbformat": 4,
 "nbformat_minor": 5
}
